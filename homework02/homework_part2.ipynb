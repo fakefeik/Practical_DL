{
 "cells": [
  {
   "cell_type": "markdown",
   "metadata": {
    "colab_type": "text",
    "collapsed": true,
    "id": "87aPzq2ZGGnv"
   },
   "source": [
    "# Homework 2.2: The Quest For A Better Network\n",
    "\n",
    "In this assignment you will build a monster network to solve CIFAR10 image classification.\n",
    "\n",
    "This notebook is intended as a sequel to seminar 3, please give it a try if you haven't done so yet."
   ]
  },
  {
   "cell_type": "markdown",
   "metadata": {
    "colab_type": "text",
    "id": "gMSgfzxzGGnw"
   },
   "source": [
    "(please read it at least diagonally)\n",
    "\n",
    "* The ultimate quest is to create a network that has as high __accuracy__ as you can push it.\n",
    "* There is a __mini-report__ at the end that you will have to fill in. We recommend reading it first and filling it while you iterate.\n",
    " \n",
    "## Grading\n",
    "* starting at zero points\n",
    "* +20% for describing your iteration path in a report below.\n",
    "* +20% for building a network that gets above 20% accuracy\n",
    "* +10% for beating each of these milestones on __TEST__ dataset:\n",
    "    * 50% (50% points)\n",
    "    * 60% (60% points)\n",
    "    * 65% (70% points)\n",
    "    * 70% (80% points)\n",
    "    * 75% (90% points)\n",
    "    * 80% (full points)\n",
    "    \n",
    "## Restrictions\n",
    "* Please do NOT use pre-trained networks for this assignment until you reach 80%.\n",
    " * In other words, base milestones must be beaten without pre-trained nets (and such net must be present in the e-mail). After that, you can use whatever you want.\n",
    "* you __can__ use validation data for training, but you __can't'__ do anything with test data apart from running the evaluation procedure.\n",
    "\n",
    "## Tips on what can be done:\n",
    "\n",
    "\n",
    " * __Network size__\n",
    "   * MOAR neurons, \n",
    "   * MOAR layers, ([torch.nn docs](http://pytorch.org/docs/master/nn.html))\n",
    "\n",
    "   * Nonlinearities in the hidden layers\n",
    "     * tanh, relu, leaky relu, etc\n",
    "   * Larger networks may take more epochs to train, so don't discard your net just because it could didn't beat the baseline in 5 epochs.\n",
    "\n",
    "   * Ph'nglui mglw'nafh Cthulhu R'lyeh wgah'nagl fhtagn!\n",
    "\n",
    "\n",
    "### The main rule of prototyping: one change at a time\n",
    "   * By now you probably have several ideas on what to change. By all means, try them out! But there's a catch: __never test several new things at once__.\n",
    "\n",
    "\n",
    "### Optimization\n",
    "   * Training for 100 epochs regardless of anything is probably a bad idea.\n",
    "   * Some networks converge over 5 epochs, others - over 500.\n",
    "   * Way to go: stop when validation score is 10 iterations past maximum\n",
    "   * You should certainly use adaptive optimizers\n",
    "     * rmsprop, nesterov_momentum, adam, adagrad and so on.\n",
    "     * Converge faster and sometimes reach better optima\n",
    "     * It might make sense to tweak learning rate/momentum, other learning parameters, batch size and number of epochs\n",
    "   * __BatchNormalization__ (nn.BatchNorm2d) for the win!\n",
    "     * Sometimes more batch normalization is better.\n",
    "   * __Regularize__ to prevent overfitting\n",
    "     * Add some L2 weight norm to the loss function, PyTorch will do the rest\n",
    "       * Can be done manually or like [this](https://discuss.pytorch.org/t/simple-l2-regularization/139/2).\n",
    "     * Dropout (`nn.Dropout`) - to prevent overfitting\n",
    "       * Don't overdo it. Check if it actually makes your network better\n",
    "   \n",
    "### Convolution architectures\n",
    "   * This task __can__ be solved by a sequence of convolutions and poolings with batch_norm and ReLU seasoning, but you shouldn't necessarily stop there.\n",
    "   * [Inception family](https://hacktilldawn.com/2016/09/25/inception-modules-explained-and-implemented/), [ResNet family](https://towardsdatascience.com/an-overview-of-resnet-and-its-variants-5281e2f56035?gi=9018057983ca), [Densely-connected convolutions (exotic)](https://arxiv.org/abs/1608.06993), [Capsule networks (exotic)](https://arxiv.org/abs/1710.09829)\n",
    "   * Please do try a few simple architectures before you go for resnet-152.\n",
    "   * Warning! Training convolutional networks can take long without GPU. That's okay.\n",
    "     * If you are CPU-only, we still recomment that you try a simple convolutional architecture\n",
    "     * a perfect option is if you can set it up to run at nighttime and check it up at the morning.\n",
    "     * Make reasonable layer size estimates. A 128-neuron first convolution is likely an overkill.\n",
    "     * __To reduce computation__ time by a factor in exchange for some accuracy drop, try using __stride__ parameter. A stride=2 convolution should take roughly 1/4 of the default (stride=1) one.\n",
    " \n",
    "   \n",
    "### Data augmemntation\n",
    "   * getting 5x as large dataset for free is a great \n",
    "     * Zoom-in+slice = move\n",
    "     * Rotate+zoom(to remove black stripes)\n",
    "     * Add Noize (gaussian or bernoulli)\n",
    "   * Simple way to do that (if you have PIL/Image): \n",
    "     * ```from scipy.misc import imrotate,imresize```\n",
    "     * and a few slicing\n",
    "     * Other cool libraries: cv2, skimake, PIL/Pillow\n",
    "   * A more advanced way is to use torchvision transforms:\n",
    "    ```\n",
    "    transform_train = transforms.Compose([\n",
    "        transforms.RandomCrop(32, padding=4),\n",
    "        transforms.RandomHorizontalFlip(),\n",
    "        transforms.ToTensor(),\n",
    "        transforms.Normalize((0.4914, 0.4822, 0.4465), (0.2023, 0.1994, 0.2010)),\n",
    "    ])\n",
    "    trainset = torchvision.datasets.CIFAR10(root=path_to_cifar_like_in_seminar, train=True, download=True, transform=transform_train)\n",
    "    trainloader = torch.utils.data.DataLoader(trainset, batch_size=128, shuffle=True, num_workers=2)\n",
    "\n",
    "    ```\n",
    "   * Or use this tool from Keras (requires theano/tensorflow): [tutorial](https://blog.keras.io/building-powerful-image-classification-models-using-very-little-data.html), [docs](https://keras.io/preprocessing/image/)\n",
    "   * Stay realistic. There's usually no point in flipping dogs upside down as that is not the way you usually see them.\n",
    "   \n",
    "```\n",
    "\n",
    "```\n",
    "\n",
    "```\n",
    "\n",
    "```\n",
    "\n",
    "```\n",
    "\n",
    "```\n",
    "\n",
    "```\n",
    "\n",
    "```\n",
    "\n",
    "\n",
    "   \n",
    "There is a template for your solution below that you can opt to use or throw away and write it your way."
   ]
  },
  {
   "cell_type": "code",
   "execution_count": 1,
   "metadata": {
    "colab": {
     "base_uri": "https://localhost:8080/",
     "height": 241
    },
    "colab_type": "code",
    "id": "mMAvEVqJPjom",
    "outputId": "2c7ecda8-1f19-4178-bd4c-2979fbd90703"
   },
   "outputs": [
    {
     "name": "stdout",
     "output_type": "stream",
     "text": [
      "tcmalloc: large alloc 1073750016 bytes == 0x58906000 @  0x7fbbdd1ab2a4 0x594e17 0x626104 0x51190a 0x4f5277 0x510c78 0x5119bd 0x4f5277 0x4f3338 0x510fb0 0x5119bd 0x4f5277 0x4f3338 0x510fb0 0x5119bd 0x4f5277 0x4f3338 0x510fb0 0x5119bd 0x4f6070 0x510c78 0x5119bd 0x4f5277 0x4f3338 0x510fb0 0x5119bd 0x4f6070 0x4f3338 0x510fb0 0x5119bd 0x4f6070\n",
      "--2018-10-25 16:39:42--  https://raw.githubusercontent.com/fakefeik/Practical_DL/ekb2018/week03_convnets/cifar.py\n",
      "Resolving raw.githubusercontent.com (raw.githubusercontent.com)... 151.101.0.133, 151.101.64.133, 151.101.128.133, ...\n",
      "Connecting to raw.githubusercontent.com (raw.githubusercontent.com)|151.101.0.133|:443... connected.\n",
      "HTTP request sent, awaiting response... 200 OK\n",
      "Length: 2396 (2.3K) [text/plain]\n",
      "Saving to: ‘cifar.py’\n",
      "\n",
      "cifar.py            100%[===================>]   2.34K  --.-KB/s    in 0s      \n",
      "\n",
      "2018-10-25 16:39:42 (38.2 MB/s) - ‘cifar.py’ saved [2396/2396]\n",
      "\n"
     ]
    }
   ],
   "source": [
    "from os.path import exists\n",
    "from wheel.pep425tags import get_abbr_impl, get_impl_ver, get_abi_tag\n",
    "platform = '{}{}-{}'.format(get_abbr_impl(), get_impl_ver(), get_abi_tag())\n",
    "cuda_output = !ldconfig -p|grep cudart.so|sed -e 's/.*\\.\\([0-9]*\\)\\.\\([0-9]*\\)$/cu\\1\\2/'\n",
    "accelerator = cuda_output[0] if exists('/dev/nvidia0') else 'cpu'\n",
    "\n",
    "!pip install -q http://download.pytorch.org/whl/{accelerator}/torch-0.4.1-{platform}-linux_x86_64.whl torchvision\n",
    "!wget https://raw.githubusercontent.com/fakefeik/Practical_DL/ekb2018/week03_convnets/cifar.py"
   ]
  },
  {
   "cell_type": "code",
   "execution_count": 0,
   "metadata": {
    "colab": {},
    "colab_type": "code",
    "collapsed": true,
    "id": "XKBgmUwtGGny"
   },
   "outputs": [],
   "source": [
    "import numpy as np\n",
    "import matplotlib.pyplot as plt\n",
    "%matplotlib inline"
   ]
  },
  {
   "cell_type": "code",
   "execution_count": 3,
   "metadata": {
    "colab": {
     "base_uri": "https://localhost:8080/",
     "height": 51
    },
    "colab_type": "code",
    "id": "PuZyrucPGGn3",
    "outputId": "3858bb11-59da-4b37-e126-efd892042315"
   },
   "outputs": [
    {
     "name": "stdout",
     "output_type": "stream",
     "text": [
      "Dataset not found. Downloading...\n",
      "(40000, 3, 32, 32) (40000,)\n"
     ]
    }
   ],
   "source": [
    "from cifar import load_cifar10\n",
    "X_train,y_train,X_val,y_val,X_test,y_test = load_cifar10(\"cifar_data\")\n",
    "class_names = np.array(['airplane','automobile ','bird ','cat ','deer ','dog ','frog ','horse ','ship ','truck'])\n",
    "\n",
    "print(X_train.shape,y_train.shape)"
   ]
  },
  {
   "cell_type": "code",
   "execution_count": 4,
   "metadata": {
    "colab": {
     "base_uri": "https://localhost:8080/",
     "height": 34
    },
    "colab_type": "code",
    "id": "VcUjBVeRGGn-",
    "outputId": "8e848e5c-f81c-4058-a25b-c88273b5e31a"
   },
   "outputs": [
    {
     "data": {
      "text/plain": [
       "(True, '9.2.148', '0.4.1')"
      ]
     },
     "execution_count": 4,
     "metadata": {
      "tags": []
     },
     "output_type": "execute_result"
    }
   ],
   "source": [
    "import torch, torch.nn as nn\n",
    "import torch.nn.functional as F\n",
    "from torch.autograd import Variable\n",
    "class Flatten(nn.Module):\n",
    "    def forward(self, input):\n",
    "        return input.view(input.size(0), -1)\n",
    "\n",
    "use_cuda = torch.cuda.is_available()\n",
    "use_cuda, torch.version.cuda, torch.__version__"
   ]
  },
  {
   "cell_type": "code",
   "execution_count": 0,
   "metadata": {
    "colab": {},
    "colab_type": "code",
    "collapsed": true,
    "id": "CjWpDr58GGoG"
   },
   "outputs": [],
   "source": [
    "def compute_loss(X_batch, y_batch):\n",
    "    if use_cuda:\n",
    "        X_batch = Variable(torch.FloatTensor(X_batch)).cuda()\n",
    "        y_batch = Variable(torch.LongTensor(y_batch)).cuda()\n",
    "    else:\n",
    "        X_batch = Variable(torch.FloatTensor(X_batch))\n",
    "        y_batch = Variable(torch.LongTensor(y_batch))\n",
    "    logits = model(X_batch)\n",
    "    return F.cross_entropy(logits, y_batch).mean()"
   ]
  },
  {
   "cell_type": "markdown",
   "metadata": {
    "colab_type": "text",
    "id": "ypMpd5C7GGoJ"
   },
   "source": [
    "__ Training __"
   ]
  },
  {
   "cell_type": "code",
   "execution_count": 0,
   "metadata": {
    "colab": {},
    "colab_type": "code",
    "collapsed": true,
    "id": "kO5-Z4QlGGoL"
   },
   "outputs": [],
   "source": [
    "def iterate_minibatches(X, y, batchsize):\n",
    "    indices = np.random.permutation(np.arange(len(X)))\n",
    "    for start in range(0, len(indices), batchsize):\n",
    "        ix = indices[start: start + batchsize]\n",
    "        yield X[ix], y[ix]"
   ]
  },
  {
   "cell_type": "code",
   "execution_count": 0,
   "metadata": {
    "colab": {},
    "colab_type": "code",
    "collapsed": true,
    "id": "y4ZerOnl71XU"
   },
   "outputs": [],
   "source": [
    "model = nn.Sequential()\n",
    "\n",
    "model.add_module('conv_1', nn.Conv2d(in_channels=3, out_channels=8, kernel_size=(3, 3)))\n",
    "model.add_module('conv1_bn', nn.BatchNorm2d(8))\n",
    "model.add_module('pool_1', nn.MaxPool2d((2, 2)))\n",
    "model.add_module('conv_1_relu', nn.ReLU())\n",
    "\n",
    "model.add_module('flatten', Flatten())\n",
    "model.add_module('dense_1', nn.Linear(8*15*15, 128))\n",
    "model.add_module('dense_1_bn', nn.BatchNorm1d(128))\n",
    "model.add_module('dense_1_relu', nn.ReLU())\n",
    "\n",
    "model.add_module('drop', nn.Dropout(0.1))\n",
    "model.add_module('dense_2_logits', nn.Linear(128, 10))\n",
    "\n",
    "if use_cuda:\n",
    "    model = model.cuda()"
   ]
  },
  {
   "cell_type": "code",
   "execution_count": 0,
   "metadata": {
    "colab": {},
    "colab_type": "code",
    "collapsed": true,
    "id": "fRC3upwIIOMu"
   },
   "outputs": [],
   "source": [
    "import time\n",
    "from torchvision import transforms\n",
    "\n",
    "means = np.array((0.4914, 0.4822, 0.4465))\n",
    "stds = np.array((0.2023, 0.1994, 0.2010))\n",
    "\n",
    "transform_augment = transforms.Compose([\n",
    "    transforms.ToPILImage(),\n",
    "    transforms.RandomCrop(32, padding=4),\n",
    "    transforms.RandomRotation([-30, 30]),\n",
    "    transforms.RandomHorizontalFlip(),\n",
    "    transforms.ToTensor(),\n",
    "    transforms.Normalize(means, stds),\n",
    "])\n",
    "\n",
    "transform_test = transforms.Compose([\n",
    "    transforms.ToTensor(),\n",
    "    transforms.Normalize(means, stds),\n",
    "])\n",
    "\n",
    "def train(name, model, opt, num_epochs=100, batch_size=50, early_stop_after=10, save_best=True, augment=False):\n",
    "    train_loss_means = []\n",
    "    val_accuracy_means = []\n",
    "    \n",
    "    for epoch in range(num_epochs):\n",
    "        # In each epoch, we do a full pass over the training data:\n",
    "        start_time = time.time()\n",
    "        model.train(True) # enable dropout / batch_norm training behavior\n",
    "        train_loss = []\n",
    "        for X_batch, y_batch in iterate_minibatches(X_train, y_train, batch_size):\n",
    "            if augment:\n",
    "                X_batch = np.array([transform_augment((np.transpose(x, [1, 2, 0])*255).astype(np.uint8)).numpy() for x in X_batch])\n",
    "            # train on batch\n",
    "            loss = compute_loss(X_batch, y_batch)\n",
    "            loss.backward()\n",
    "            opt.step()\n",
    "            opt.zero_grad()\n",
    "            loss_data = loss.data[0]\n",
    "            if use_cuda:\n",
    "                loss_data = loss_data.cpu()\n",
    "            train_loss.append(loss_data.numpy())\n",
    "\n",
    "        # And a full pass over the validation data:\n",
    "        model.train(False) # disable dropout / use averages for batch_norm\n",
    "        val_accuracy = []\n",
    "        for X_batch, y_batch in iterate_minibatches(X_val, y_val, batch_size):\n",
    "            if augment:\n",
    "                X_batch = np.array([transform_test((np.transpose(x, [1, 2, 0])*255).astype(np.uint8)).numpy() for x in X_batch])\n",
    "            X_batch_var = Variable(torch.FloatTensor(X_batch))\n",
    "            if use_cuda:\n",
    "                X_batch_var = X_batch_var.cuda()\n",
    "            logits = model(X_batch_var)\n",
    "            y_pred_data = logits.max(1)[1].data\n",
    "            if use_cuda:\n",
    "                y_pred_data = y_pred_data.cpu()\n",
    "            y_pred = y_pred_data.numpy()\n",
    "            val_accuracy.append(np.mean(y_batch == y_pred))\n",
    "        \n",
    "        train_loss_means.append(np.mean(train_loss))\n",
    "        val_accuracy_means.append(np.mean(val_accuracy))\n",
    "        \n",
    "        local_max = np.max(val_accuracy_means)\n",
    "        \n",
    "        if save_best and val_accuracy_means[-1] == local_max:\n",
    "            torch.save(model.state_dict(), name)\n",
    "        \n",
    "        t = time.time() - start_time\n",
    "        print(f'\\rEpoch #{epoch + 1}/{num_epochs} took {t:.3f}s, loss: {train_loss_means[-1]:.6f}, val_acc: {val_accuracy_means[-1]*100:.2f}', end='')\n",
    "        \n",
    "        if len(val_accuracy_means) > early_stop_after and local_max not in val_accuracy_means[-early_stop_after:]:\n",
    "            print(f'\\nEarly stopped after epoch #{epoch + 1}')\n",
    "            break\n",
    "    print(f'Best validation accuracy: {np.max(val_accuracy_means):.4f}' + (f', best model saved to \"{name}\"' if save_best else ''))\n",
    "    \n",
    "    plt.title(name)\n",
    "    plt.xlabel('n_epoch')\n",
    "    plt.ylabel('accuracy')\n",
    "    plt.plot(list(range(1, len(val_accuracy_means) + 1)), val_accuracy_means)\n",
    "    plt.show()"
   ]
  },
  {
   "cell_type": "code",
   "execution_count": 91,
   "metadata": {
    "colab": {
     "base_uri": "https://localhost:8080/",
     "height": 382
    },
    "colab_type": "code",
    "id": "CaVAmxqTei0P",
    "outputId": "15d5f9f3-e8cf-4eb3-a8f6-1da849747cd7"
   },
   "outputs": [
    {
     "name": "stderr",
     "output_type": "stream",
     "text": [
      "/usr/local/lib/python3.6/dist-packages/ipykernel_launcher.py:18: UserWarning: invalid index of a 0-dim tensor. This will be an error in PyTorch 0.5. Use tensor.item() to convert a 0-dim tensor to a Python number\n"
     ]
    },
    {
     "name": "stdout",
     "output_type": "stream",
     "text": [
      "Epoch #22/100 took 5.253s, loss: 0.304742, val_acc: 60.49\n",
      "Early stopped after epoch #22\n",
      "Best validation accuracy: 0.6238, best model saved to \"model_basic\"\n"
     ]
    },
    {
     "data": {
      "image/png": "[encoded data removed]",
      "text/plain": [
       "<matplotlib.figure.Figure at 0x7f37d4c02ef0>"
      ]
     },
     "metadata": {
      "tags": []
     },
     "output_type": "display_data"
    }
   ],
   "source": [
    "train('model_basic', model, torch.optim.Adam(model.parameters()))"
   ]
  },
  {
   "cell_type": "code",
   "execution_count": 0,
   "metadata": {
    "colab": {},
    "colab_type": "code",
    "collapsed": true,
    "id": "JdQobP3akl0X"
   },
   "outputs": [],
   "source": [
    "model.load_state_dict(torch.load('model_basic'))"
   ]
  },
  {
   "cell_type": "code",
   "execution_count": 0,
   "metadata": {
    "colab": {},
    "colab_type": "code",
    "collapsed": true,
    "id": "jvYYMaPPGGoS"
   },
   "outputs": [],
   "source": [
    "def print_test_accuracy(model, augmented=False):\n",
    "    model.train(False) # disable dropout / use averages for batch_norm\n",
    "    test_batch_acc = []\n",
    "    for X_batch, y_batch in iterate_minibatches(X_test, y_test, 500):\n",
    "        if augmented:\n",
    "            X_batch = np.array([transform_test((np.transpose(x, [1, 2, 0])*255).astype(np.uint8)).numpy() for x in X_batch])\n",
    "        X_batch_var = Variable(torch.FloatTensor(X_batch))\n",
    "        if use_cuda:\n",
    "            X_batch_var = X_batch_var.cuda()\n",
    "        logits = model(X_batch_var)\n",
    "        y_pred_data = logits.max(1)[1].data\n",
    "        if use_cuda:\n",
    "            y_pred_data = y_pred_data.cpu()\n",
    "        y_pred = y_pred_data.numpy()\n",
    "        test_batch_acc.append(np.mean(y_batch == y_pred))\n",
    "\n",
    "    test_accuracy = np.mean(test_batch_acc)\n",
    "\n",
    "    print(\"Final results:\")\n",
    "    print(\"  test accuracy:\\t\\t{:.2f} %\".format(\n",
    "        test_accuracy * 100))\n",
    "\n",
    "    if test_accuracy * 100 > 95:\n",
    "        print(\"Double-check, than consider applying for NIPS'17. SRSly.\")\n",
    "    elif test_accuracy * 100 > 90:\n",
    "        print(\"U'r freakin' amazin'!\")\n",
    "    elif test_accuracy * 100 > 80:\n",
    "        print(\"Achievement unlocked: 110lvl Warlock!\")\n",
    "    elif test_accuracy * 100 > 70:\n",
    "        print(\"Achievement unlocked: 80lvl Warlock!\")\n",
    "    elif test_accuracy * 100 > 60:\n",
    "        print(\"Achievement unlocked: 70lvl Warlock!\")\n",
    "    elif test_accuracy * 100 > 50:\n",
    "        print(\"Achievement unlocked: 60lvl Warlock!\")\n",
    "    else:\n",
    "        print(\"We need more magic! Follow instructons below\")"
   ]
  },
  {
   "cell_type": "code",
   "execution_count": 94,
   "metadata": {
    "colab": {
     "base_uri": "https://localhost:8080/",
     "height": 68
    },
    "colab_type": "code",
    "id": "mTNPFd_p-bmg",
    "outputId": "44ea8f3e-9301-4025-eaa0-49752a5ecdf3"
   },
   "outputs": [
    {
     "name": "stdout",
     "output_type": "stream",
     "text": [
      "Final results:\n",
      "  test accuracy:\t\t61.17 %\n",
      "Achievement unlocked: 70lvl Warlock!\n"
     ]
    }
   ],
   "source": [
    "print_test_accuracy(model)"
   ]
  },
  {
   "cell_type": "code",
   "execution_count": 0,
   "metadata": {
    "colab": {},
    "colab_type": "code",
    "collapsed": true,
    "id": "sdxrfELIGYml"
   },
   "outputs": [],
   "source": [
    "model = nn.Sequential()\n",
    "\n",
    "model.add_module('conv_1', nn.Conv2d(in_channels=3, out_channels=16, kernel_size=(3, 3)))\n",
    "model.add_module('conv1_bn', nn.BatchNorm2d(16))\n",
    "model.add_module('pool_1', nn.MaxPool2d((2, 2)))\n",
    "model.add_module('conv_1_relu', nn.ReLU())\n",
    "\n",
    "model.add_module('flatten', Flatten())\n",
    "model.add_module('dense_1', nn.Linear(16*15*15, 128))\n",
    "model.add_module('dense_1_bn', nn.BatchNorm1d(128))\n",
    "model.add_module('dense_1_relu', nn.ReLU())\n",
    "\n",
    "model.add_module('drop', nn.Dropout(0.1))\n",
    "model.add_module('dense_2_logits', nn.Linear(128, 10))\n",
    "\n",
    "if use_cuda:\n",
    "    model = model.cuda()"
   ]
  },
  {
   "cell_type": "code",
   "execution_count": 96,
   "metadata": {
    "colab": {
     "base_uri": "https://localhost:8080/",
     "height": 382
    },
    "colab_type": "code",
    "id": "FPb3f13VGaK3",
    "outputId": "c40c3d3b-efb4-4c61-b834-a26ffc430900"
   },
   "outputs": [
    {
     "name": "stderr",
     "output_type": "stream",
     "text": [
      "/usr/local/lib/python3.6/dist-packages/ipykernel_launcher.py:18: UserWarning: invalid index of a 0-dim tensor. This will be an error in PyTorch 0.5. Use tensor.item() to convert a 0-dim tensor to a Python number\n"
     ]
    },
    {
     "name": "stdout",
     "output_type": "stream",
     "text": [
      "Epoch #19/100 took 5.224s, loss: 0.198800, val_acc: 64.58\n",
      "Early stopped after epoch #19\n",
      "Best validation accuracy: 0.6474, best model saved to \"model_more_channels\"\n"
     ]
    },
    {
     "data": {
      "image/png": "[encoded data removed]",
      "text/plain": [
       "<matplotlib.figure.Figure at 0x7f37d4b80198>"
      ]
     },
     "metadata": {
      "tags": []
     },
     "output_type": "display_data"
    }
   ],
   "source": [
    "train('model_more_channels', model, torch.optim.Adam(model.parameters()))"
   ]
  },
  {
   "cell_type": "code",
   "execution_count": 97,
   "metadata": {
    "colab": {
     "base_uri": "https://localhost:8080/",
     "height": 68
    },
    "colab_type": "code",
    "id": "kM8kNsMDGdNG",
    "outputId": "256dad9f-e82c-492d-cf92-2daf358823fe"
   },
   "outputs": [
    {
     "name": "stdout",
     "output_type": "stream",
     "text": [
      "Final results:\n",
      "  test accuracy:\t\t63.97 %\n",
      "Achievement unlocked: 70lvl Warlock!\n"
     ]
    }
   ],
   "source": [
    "model.load_state_dict(torch.load('model_more_channels'))\n",
    "print_test_accuracy(model)"
   ]
  },
  {
   "cell_type": "code",
   "execution_count": 0,
   "metadata": {
    "colab": {},
    "colab_type": "code",
    "collapsed": true,
    "id": "UStPqVbv9_xY"
   },
   "outputs": [],
   "source": [
    "model = nn.Sequential()\n",
    "\n",
    "model.add_module('conv_1', nn.Conv2d(in_channels=3, out_channels=8, kernel_size=(3, 3)))\n",
    "model.add_module('conv1_bn', nn.BatchNorm2d(8))\n",
    "model.add_module('pool_1', nn.MaxPool2d((2, 2)))\n",
    "model.add_module('conv_1_relu', nn.ReLU())\n",
    "\n",
    "model.add_module('conv_2', nn.Conv2d(in_channels=8, out_channels=16, kernel_size=(3, 3)))\n",
    "model.add_module('pool_2', nn.MaxPool2d(2, 2))\n",
    "model.add_module('conv_2_relu', nn.ReLU())\n",
    "\n",
    "model.add_module('flatten', Flatten())\n",
    "model.add_module('dense_1', nn.Linear(16*6*6, 128))\n",
    "model.add_module('dense_1_bn', nn.BatchNorm1d(128))\n",
    "model.add_module('dense_1_relu', nn.ReLU())\n",
    "\n",
    "model.add_module('drop', nn.Dropout(0.1))\n",
    "model.add_module('dense_2_logits', nn.Linear(128, 10))\n",
    "\n",
    "if use_cuda:\n",
    "    model = model.cuda()"
   ]
  },
  {
   "cell_type": "code",
   "execution_count": 99,
   "metadata": {
    "colab": {
     "base_uri": "https://localhost:8080/",
     "height": 382
    },
    "colab_type": "code",
    "id": "HZR1Yv9w-BUg",
    "outputId": "6b0749af-9d8a-4f25-f59c-e373939c5871"
   },
   "outputs": [
    {
     "name": "stderr",
     "output_type": "stream",
     "text": [
      "/usr/local/lib/python3.6/dist-packages/ipykernel_launcher.py:18: UserWarning: invalid index of a 0-dim tensor. This will be an error in PyTorch 0.5. Use tensor.item() to convert a 0-dim tensor to a Python number\n"
     ]
    },
    {
     "name": "stdout",
     "output_type": "stream",
     "text": [
      "Epoch #23/100 took 6.359s, loss: 0.505329, val_acc: 65.28\n",
      "Early stopped after epoch #23\n",
      "Best validation accuracy: 0.6667, best model saved to \"model_add_conv\"\n"
     ]
    },
    {
     "data": {
      "image/png": "[encoded data removed]",
      "text/plain": [
       "<matplotlib.figure.Figure at 0x7f37d4bf7240>"
      ]
     },
     "metadata": {
      "tags": []
     },
     "output_type": "display_data"
    }
   ],
   "source": [
    "train('model_add_conv', model, torch.optim.Adam(model.parameters()))"
   ]
  },
  {
   "cell_type": "code",
   "execution_count": 100,
   "metadata": {
    "colab": {
     "base_uri": "https://localhost:8080/",
     "height": 68
    },
    "colab_type": "code",
    "id": "FEk1tPJG-H1f",
    "outputId": "493cce65-39b4-438f-fe32-11ec7c3f39f3"
   },
   "outputs": [
    {
     "name": "stdout",
     "output_type": "stream",
     "text": [
      "Final results:\n",
      "  test accuracy:\t\t66.15 %\n",
      "Achievement unlocked: 70lvl Warlock!\n"
     ]
    }
   ],
   "source": [
    "model.load_state_dict(torch.load('model_add_conv'))\n",
    "print_test_accuracy(model)"
   ]
  },
  {
   "cell_type": "code",
   "execution_count": 0,
   "metadata": {
    "colab": {},
    "colab_type": "code",
    "collapsed": true,
    "id": "95ofF1ffHJWE"
   },
   "outputs": [],
   "source": [
    "model = nn.Sequential()\n",
    "\n",
    "model.add_module('conv_1', nn.Conv2d(in_channels=3, out_channels=16, kernel_size=(3, 3)))\n",
    "model.add_module('conv1_bn', nn.BatchNorm2d(16))\n",
    "model.add_module('pool_1', nn.MaxPool2d((2, 2)))\n",
    "model.add_module('conv_1_relu', nn.ReLU())\n",
    "\n",
    "model.add_module('conv_2', nn.Conv2d(in_channels=16, out_channels=32, kernel_size=(3, 3)))\n",
    "model.add_module('pool_2', nn.MaxPool2d(2, 2))\n",
    "model.add_module('conv_2_relu', nn.ReLU())\n",
    "\n",
    "model.add_module('flatten', Flatten())\n",
    "model.add_module('dense_1', nn.Linear(32*6*6, 128))\n",
    "model.add_module('dense_1_bn', nn.BatchNorm1d(128))\n",
    "model.add_module('dense_1_relu', nn.ReLU())\n",
    "\n",
    "model.add_module('drop', nn.Dropout(0.1))\n",
    "model.add_module('dense_2_logits', nn.Linear(128, 10))\n",
    "\n",
    "if use_cuda:\n",
    "    model = model.cuda()"
   ]
  },
  {
   "cell_type": "code",
   "execution_count": 102,
   "metadata": {
    "colab": {
     "base_uri": "https://localhost:8080/",
     "height": 382
    },
    "colab_type": "code",
    "id": "__m0OSVvHQLc",
    "outputId": "fec0d6b7-9f9f-4584-9bf5-0cc0859ba73a"
   },
   "outputs": [
    {
     "name": "stderr",
     "output_type": "stream",
     "text": [
      "/usr/local/lib/python3.6/dist-packages/ipykernel_launcher.py:18: UserWarning: invalid index of a 0-dim tensor. This will be an error in PyTorch 0.5. Use tensor.item() to convert a 0-dim tensor to a Python number\n"
     ]
    },
    {
     "name": "stdout",
     "output_type": "stream",
     "text": [
      "Epoch #20/100 took 6.369s, loss: 0.245386, val_acc: 69.20\n",
      "Early stopped after epoch #20\n",
      "Best validation accuracy: 0.7100, best model saved to \"model_add_conv_more_channels\"\n"
     ]
    },
    {
     "data": {
      "image/png": "[encoded data removed]",
      "text/plain": [
       "<matplotlib.figure.Figure at 0x7f37d7942630>"
      ]
     },
     "metadata": {
      "tags": []
     },
     "output_type": "display_data"
    }
   ],
   "source": [
    "train('model_add_conv_more_channels', model, torch.optim.Adam(model.parameters()))"
   ]
  },
  {
   "cell_type": "code",
   "execution_count": 103,
   "metadata": {
    "colab": {
     "base_uri": "https://localhost:8080/",
     "height": 68
    },
    "colab_type": "code",
    "id": "hRt06Gb5HYRW",
    "outputId": "5f08b098-9e60-4f4e-ffea-8e67703e8bac"
   },
   "outputs": [
    {
     "name": "stdout",
     "output_type": "stream",
     "text": [
      "Final results:\n",
      "  test accuracy:\t\t70.67 %\n",
      "Achievement unlocked: 80lvl Warlock!\n"
     ]
    }
   ],
   "source": [
    "model.load_state_dict(torch.load('model_add_conv_more_channels'))\n",
    "print_test_accuracy(model)"
   ]
  },
  {
   "cell_type": "code",
   "execution_count": 0,
   "metadata": {
    "colab": {},
    "colab_type": "code",
    "collapsed": true,
    "id": "7AMCnTFyJj3H"
   },
   "outputs": [],
   "source": [
    "model = nn.Sequential()\n",
    "\n",
    "model.add_module('conv_1', nn.Conv2d(in_channels=3, out_channels=16, kernel_size=(3, 3)))\n",
    "model.add_module('conv1_bn', nn.BatchNorm2d(16))\n",
    "model.add_module('pool_1', nn.MaxPool2d((2, 2)))\n",
    "model.add_module('conv_1_relu', nn.ReLU())\n",
    "\n",
    "model.add_module('conv_2', nn.Conv2d(in_channels=16, out_channels=32, kernel_size=(3, 3)))\n",
    "model.add_module('conv_2_bn', nn.BatchNorm2d(32))\n",
    "model.add_module('pool_2', nn.MaxPool2d(2, 2))\n",
    "model.add_module('conv_2_relu', nn.ReLU())\n",
    "\n",
    "model.add_module('conv_3', nn.Conv2d(in_channels=32, out_channels=64, kernel_size=(3, 3)))\n",
    "model.add_module('conv_3_bn', nn.BatchNorm2d(64))\n",
    "model.add_module('pool_3', nn.MaxPool2d(2, 2))\n",
    "model.add_module('conv_3_relu', nn.ReLU())\n",
    "\n",
    "model.add_module('flatten', Flatten())\n",
    "model.add_module('dense_1', nn.Linear(64*2*2, 128))\n",
    "model.add_module('dense_1_bn', nn.BatchNorm1d(128))\n",
    "model.add_module('dense_1_relu', nn.ReLU())\n",
    "\n",
    "model.add_module('drop', nn.Dropout(0.1))\n",
    "model.add_module('dense_2_logits', nn.Linear(128, 10))\n",
    "\n",
    "if use_cuda:\n",
    "    model = model.cuda()"
   ]
  },
  {
   "cell_type": "code",
   "execution_count": 105,
   "metadata": {
    "colab": {
     "base_uri": "https://localhost:8080/",
     "height": 382
    },
    "colab_type": "code",
    "id": "Xg_4cMmjJ0gq",
    "outputId": "26a5c74c-c3c7-4f1c-8233-359c51903d9e"
   },
   "outputs": [
    {
     "name": "stderr",
     "output_type": "stream",
     "text": [
      "/usr/local/lib/python3.6/dist-packages/ipykernel_launcher.py:18: UserWarning: invalid index of a 0-dim tensor. This will be an error in PyTorch 0.5. Use tensor.item() to convert a 0-dim tensor to a Python number\n"
     ]
    },
    {
     "name": "stdout",
     "output_type": "stream",
     "text": [
      "Epoch #20/100 took 8.662s, loss: 0.389865, val_acc: 69.63\n",
      "Early stopped after epoch #20\n",
      "Best validation accuracy: 0.7229, best model saved to \"model_3_conv\"\n"
     ]
    },
    {
     "data": {
      "image/png": "[encoded data removed]",
      "text/plain": [
       "<matplotlib.figure.Figure at 0x7f37d49996d8>"
      ]
     },
     "metadata": {
      "tags": []
     },
     "output_type": "display_data"
    }
   ],
   "source": [
    "train('model_3_conv', model, torch.optim.Adam(model.parameters()))"
   ]
  },
  {
   "cell_type": "code",
   "execution_count": 106,
   "metadata": {
    "colab": {
     "base_uri": "https://localhost:8080/",
     "height": 68
    },
    "colab_type": "code",
    "id": "A1Rnvy6SJ7O4",
    "outputId": "c426a384-1520-4f4b-e401-5e6a5aece061"
   },
   "outputs": [
    {
     "name": "stdout",
     "output_type": "stream",
     "text": [
      "Final results:\n",
      "  test accuracy:\t\t72.03 %\n",
      "Achievement unlocked: 80lvl Warlock!\n"
     ]
    }
   ],
   "source": [
    "model.load_state_dict(torch.load('model_3_conv'))\n",
    "print_test_accuracy(model)"
   ]
  },
  {
   "cell_type": "code",
   "execution_count": 0,
   "metadata": {
    "colab": {},
    "colab_type": "code",
    "collapsed": true,
    "id": "U3O8AKCJ-sBm"
   },
   "outputs": [],
   "source": [
    "model = nn.Sequential()\n",
    "\n",
    "model.add_module('conv_1', nn.Conv2d(in_channels=3, out_channels=16, kernel_size=(3, 3)))\n",
    "model.add_module('conv1_bn', nn.BatchNorm2d(16))\n",
    "model.add_module('pool_1', nn.MaxPool2d((2, 2)))\n",
    "model.add_module('conv_1_relu', nn.ReLU())\n",
    "\n",
    "model.add_module('conv_2', nn.Conv2d(in_channels=16, out_channels=32, kernel_size=(3, 3)))\n",
    "model.add_module('pool_2', nn.MaxPool2d(2, 2))\n",
    "model.add_module('conv_2_relu', nn.ReLU())\n",
    "\n",
    "model.add_module('flatten', Flatten())\n",
    "model.add_module('dense_1', nn.Linear(32*6*6, 256))\n",
    "model.add_module('dense_1_bn', nn.BatchNorm1d(256))\n",
    "model.add_module('dense_1_relu', nn.ReLU())\n",
    "\n",
    "model.add_module('drop', nn.Dropout(0.1))\n",
    "model.add_module('dense_2_logits', nn.Linear(256, 10))\n",
    "\n",
    "if use_cuda:\n",
    "    model = model.cuda()"
   ]
  },
  {
   "cell_type": "code",
   "execution_count": 108,
   "metadata": {
    "colab": {
     "base_uri": "https://localhost:8080/",
     "height": 382
    },
    "colab_type": "code",
    "id": "S_OyIOKs-w2-",
    "outputId": "ec579f50-4e98-4441-8634-4895afb8dc54"
   },
   "outputs": [
    {
     "name": "stderr",
     "output_type": "stream",
     "text": [
      "/usr/local/lib/python3.6/dist-packages/ipykernel_launcher.py:18: UserWarning: invalid index of a 0-dim tensor. This will be an error in PyTorch 0.5. Use tensor.item() to convert a 0-dim tensor to a Python number\n"
     ]
    },
    {
     "name": "stdout",
     "output_type": "stream",
     "text": [
      "Epoch #20/100 took 6.343s, loss: 0.129396, val_acc: 70.03\n",
      "Early stopped after epoch #20\n",
      "Best validation accuracy: 0.7085, best model saved to \"model_bigger_dense\"\n"
     ]
    },
    {
     "data": {
      "image/png": "[encoded data removed]",
      "text/plain": [
       "<matplotlib.figure.Figure at 0x7f37d4c046a0>"
      ]
     },
     "metadata": {
      "tags": []
     },
     "output_type": "display_data"
    }
   ],
   "source": [
    "train('model_bigger_dense', model, torch.optim.Adam(model.parameters()))"
   ]
  },
  {
   "cell_type": "code",
   "execution_count": 109,
   "metadata": {
    "colab": {
     "base_uri": "https://localhost:8080/",
     "height": 68
    },
    "colab_type": "code",
    "id": "x4TF3L7X-z4-",
    "outputId": "78aa3437-0168-4399-efaa-ad27ee87ff79"
   },
   "outputs": [
    {
     "name": "stdout",
     "output_type": "stream",
     "text": [
      "Final results:\n",
      "  test accuracy:\t\t70.59 %\n",
      "Achievement unlocked: 80lvl Warlock!\n"
     ]
    }
   ],
   "source": [
    "model.load_state_dict(torch.load('model_bigger_dense'))\n",
    "print_test_accuracy(model)"
   ]
  },
  {
   "cell_type": "code",
   "execution_count": 0,
   "metadata": {
    "colab": {},
    "colab_type": "code",
    "collapsed": true,
    "id": "_STdgEv3LOqT"
   },
   "outputs": [],
   "source": [
    "model = nn.Sequential()\n",
    "\n",
    "model.add_module('conv_1', nn.Conv2d(in_channels=3, out_channels=16, kernel_size=(3, 3)))\n",
    "model.add_module('conv1_bn', nn.BatchNorm2d(16))\n",
    "model.add_module('pool_1', nn.MaxPool2d((2, 2)))\n",
    "model.add_module('conv_1_relu', nn.ReLU())\n",
    "\n",
    "model.add_module('conv_2', nn.Conv2d(in_channels=16, out_channels=32, kernel_size=(3, 3)))\n",
    "model.add_module('conv_2_bn', nn.BatchNorm2d(32))\n",
    "model.add_module('pool_2', nn.MaxPool2d(2, 2))\n",
    "model.add_module('conv_2_relu', nn.ReLU())\n",
    "\n",
    "model.add_module('conv_3', nn.Conv2d(in_channels=32, out_channels=64, kernel_size=(3, 3)))\n",
    "model.add_module('conv_3_bn', nn.BatchNorm2d(64))\n",
    "model.add_module('pool_3', nn.MaxPool2d(2, 2))\n",
    "model.add_module('conv_3_relu', nn.ReLU())\n",
    "\n",
    "model.add_module('flatten', Flatten())\n",
    "model.add_module('dense_1', nn.Linear(64*2*2, 256))\n",
    "model.add_module('dense_1_bn', nn.BatchNorm1d(256))\n",
    "model.add_module('dense_1_relu', nn.ReLU())\n",
    "\n",
    "model.add_module('drop', nn.Dropout(0.1))\n",
    "\n",
    "model.add_module('dense_2', nn.Linear(256, 128))\n",
    "model.add_module('dense_2_bn', nn.BatchNorm1d(128))\n",
    "model.add_module('dense_2_relu', nn.ReLU())\n",
    "\n",
    "model.add_module('dense_2_logits', nn.Linear(128, 10))\n",
    "\n",
    "if use_cuda:\n",
    "    model = model.cuda()"
   ]
  },
  {
   "cell_type": "code",
   "execution_count": 111,
   "metadata": {
    "colab": {
     "base_uri": "https://localhost:8080/",
     "height": 382
    },
    "colab_type": "code",
    "id": "-pRVuIbbLniS",
    "outputId": "2c4694cd-d56d-43e4-c7b0-2a30bfa5ddbd"
   },
   "outputs": [
    {
     "name": "stderr",
     "output_type": "stream",
     "text": [
      "/usr/local/lib/python3.6/dist-packages/ipykernel_launcher.py:18: UserWarning: invalid index of a 0-dim tensor. This will be an error in PyTorch 0.5. Use tensor.item() to convert a 0-dim tensor to a Python number\n"
     ]
    },
    {
     "name": "stdout",
     "output_type": "stream",
     "text": [
      "Epoch #21/100 took 9.898s, loss: 0.280474, val_acc: 71.20\n",
      "Early stopped after epoch #21\n",
      "Best validation accuracy: 0.7269, best model saved to \"model_2_dense\"\n"
     ]
    },
    {
     "data": {
      "image/png": "[encoded data removed]",
      "text/plain": [
       "<matplotlib.figure.Figure at 0x7f37d4a06198>"
      ]
     },
     "metadata": {
      "tags": []
     },
     "output_type": "display_data"
    }
   ],
   "source": [
    "train('model_2_dense', model, torch.optim.Adam(model.parameters()))"
   ]
  },
  {
   "cell_type": "code",
   "execution_count": 112,
   "metadata": {
    "colab": {
     "base_uri": "https://localhost:8080/",
     "height": 68
    },
    "colab_type": "code",
    "id": "Pbf1TS8GLsoz",
    "outputId": "e0de5a38-5697-402c-e318-3153b049a071"
   },
   "outputs": [
    {
     "name": "stdout",
     "output_type": "stream",
     "text": [
      "Final results:\n",
      "  test accuracy:\t\t72.34 %\n",
      "Achievement unlocked: 80lvl Warlock!\n"
     ]
    }
   ],
   "source": [
    "model.load_state_dict(torch.load('model_2_dense'))\n",
    "print_test_accuracy(model)"
   ]
  },
  {
   "cell_type": "code",
   "execution_count": 0,
   "metadata": {
    "colab": {},
    "colab_type": "code",
    "collapsed": true,
    "id": "pBxINE_MWfnD"
   },
   "outputs": [],
   "source": [
    "model = nn.Sequential()\n",
    "\n",
    "model.add_module('conv_1', nn.Conv2d(in_channels=3, out_channels=16, kernel_size=(3, 3)))\n",
    "model.add_module('conv1_bn', nn.BatchNorm2d(16))\n",
    "model.add_module('pool_1', nn.MaxPool2d((2, 2)))\n",
    "model.add_module('conv_1_relu', nn.ReLU())\n",
    "\n",
    "model.add_module('conv_2', nn.Conv2d(in_channels=16, out_channels=32, kernel_size=(3, 3)))\n",
    "model.add_module('conv_2_bn', nn.BatchNorm2d(32))\n",
    "model.add_module('pool_2', nn.MaxPool2d(2, 2))\n",
    "model.add_module('conv_2_relu', nn.ReLU())\n",
    "\n",
    "model.add_module('conv_3', nn.Conv2d(in_channels=32, out_channels=64, kernel_size=(3, 3)))\n",
    "model.add_module('conv_3_bn', nn.BatchNorm2d(64))\n",
    "model.add_module('pool_3', nn.MaxPool2d(2, 2))\n",
    "model.add_module('conv_3_relu', nn.ReLU())\n",
    "\n",
    "model.add_module('flatten', Flatten())\n",
    "model.add_module('dense_1', nn.Linear(64*2*2, 256))\n",
    "model.add_module('dense_1_bn', nn.BatchNorm1d(256))\n",
    "model.add_module('dense_1_relu', nn.ReLU())\n",
    "\n",
    "model.add_module('drop', nn.Dropout(0.1))\n",
    "\n",
    "model.add_module('dense_2', nn.Linear(256, 128))\n",
    "model.add_module('dense_2_bn', nn.BatchNorm1d(128))\n",
    "model.add_module('dense_2_relu', nn.ReLU())\n",
    "\n",
    "model.add_module('dense_2_logits', nn.Linear(128, 10))\n",
    "\n",
    "if use_cuda:\n",
    "    model = model.cuda()"
   ]
  },
  {
   "cell_type": "code",
   "execution_count": 123,
   "metadata": {
    "colab": {
     "base_uri": "https://localhost:8080/",
     "height": 382
    },
    "colab_type": "code",
    "id": "N7QAYt8XWg-c",
    "outputId": "cc5eae07-6525-49ad-d373-6c50ba7cf488"
   },
   "outputs": [
    {
     "name": "stderr",
     "output_type": "stream",
     "text": [
      "/usr/local/lib/python3.6/dist-packages/ipykernel_launcher.py:18: UserWarning: invalid index of a 0-dim tensor. This will be an error in PyTorch 0.5. Use tensor.item() to convert a 0-dim tensor to a Python number\n"
     ]
    },
    {
     "name": "stdout",
     "output_type": "stream",
     "text": [
      "Epoch #22/100 took 4.075s, loss: 0.219922, val_acc: 68.84\n",
      "Early stopped after epoch #22\n",
      "Best validation accuracy: 0.7074, best model saved to \"model_inc_batch_size\"\n"
     ]
    },
    {
     "data": {
      "image/png": "[encoded data removed]",
      "text/plain": [
       "<matplotlib.figure.Figure at 0x7f37d4856160>"
      ]
     },
     "metadata": {
      "tags": []
     },
     "output_type": "display_data"
    }
   ],
   "source": [
    "train('model_inc_batch_size', model, torch.optim.Adam(model.parameters()), batch_size=128)"
   ]
  },
  {
   "cell_type": "code",
   "execution_count": 124,
   "metadata": {
    "colab": {
     "base_uri": "https://localhost:8080/",
     "height": 68
    },
    "colab_type": "code",
    "id": "Gpwx-zkVWrIr",
    "outputId": "d03eb9ba-b4ab-4e52-88ab-a73b1b37f7dd"
   },
   "outputs": [
    {
     "name": "stdout",
     "output_type": "stream",
     "text": [
      "Final results:\n",
      "  test accuracy:\t\t70.59 %\n",
      "Achievement unlocked: 80lvl Warlock!\n"
     ]
    }
   ],
   "source": [
    "model.load_state_dict(torch.load('model_inc_batch_size'))\n",
    "print_test_accuracy(model)"
   ]
  },
  {
   "cell_type": "code",
   "execution_count": 0,
   "metadata": {
    "colab": {},
    "colab_type": "code",
    "collapsed": true,
    "id": "EJlJbiSBAzMt"
   },
   "outputs": [],
   "source": [
    "model = nn.Sequential()\n",
    "\n",
    "model.add_module('conv_1', nn.Conv2d(in_channels=3, out_channels=16, kernel_size=(3, 3)))\n",
    "model.add_module('conv1_bn', nn.BatchNorm2d(16))\n",
    "model.add_module('pool_1', nn.MaxPool2d((2, 2)))\n",
    "model.add_module('conv_1_relu', nn.ReLU())\n",
    "\n",
    "model.add_module('conv_2', nn.Conv2d(in_channels=16, out_channels=32, kernel_size=(3, 3)))\n",
    "model.add_module('conv_2_bn', nn.BatchNorm2d(32))\n",
    "model.add_module('pool_2', nn.MaxPool2d(2, 2))\n",
    "model.add_module('conv_2_relu', nn.ReLU())\n",
    "\n",
    "model.add_module('conv_3', nn.Conv2d(in_channels=32, out_channels=64, kernel_size=(3, 3)))\n",
    "model.add_module('conv_3_bn', nn.BatchNorm2d(64))\n",
    "model.add_module('pool_3', nn.MaxPool2d(2, 2))\n",
    "model.add_module('conv_3_relu', nn.ReLU())\n",
    "\n",
    "model.add_module('flatten', Flatten())\n",
    "model.add_module('dense_1', nn.Linear(64*2*2, 256))\n",
    "model.add_module('dense_1_bn', nn.BatchNorm1d(256))\n",
    "model.add_module('dense_1_relu', nn.ReLU())\n",
    "\n",
    "model.add_module('drop', nn.Dropout(0.1))\n",
    "\n",
    "model.add_module('dense_2', nn.Linear(256, 128))\n",
    "model.add_module('dense_2_bn', nn.BatchNorm1d(128))\n",
    "model.add_module('dense_2_relu', nn.ReLU())\n",
    "\n",
    "model.add_module('dense_2_logits', nn.Linear(128, 10))\n",
    "\n",
    "if use_cuda:\n",
    "    model = model.cuda()"
   ]
  },
  {
   "cell_type": "code",
   "execution_count": 39,
   "metadata": {
    "colab": {
     "base_uri": "https://localhost:8080/",
     "height": 382
    },
    "colab_type": "code",
    "id": "pE8rPPx3H-7T",
    "outputId": "fbd269dd-a309-4846-e643-183c1998f47a"
   },
   "outputs": [
    {
     "name": "stderr",
     "output_type": "stream",
     "text": [
      "/usr/local/lib/python3.6/dist-packages/ipykernel_launcher.py:38: UserWarning: invalid index of a 0-dim tensor. This will be an error in PyTorch 0.5. Use tensor.item() to convert a 0-dim tensor to a Python number\n"
     ]
    },
    {
     "name": "stdout",
     "output_type": "stream",
     "text": [
      "Epoch #53/100 took 28.003s, loss: 0.810589, val_acc: 77.28\n",
      "Early stopped after epoch #53\n",
      "Best validation accuracy: 0.7743, best model saved to \"model_2_dense_aug\"\n"
     ]
    },
    {
     "data": {
      "image/png": "[encoded data removed]",
      "text/plain": [
       "<matplotlib.figure.Figure at 0x7fd987324f28>"
      ]
     },
     "metadata": {
      "tags": []
     },
     "output_type": "display_data"
    }
   ],
   "source": [
    "train('model_2_dense_aug', model, torch.optim.Adam(model.parameters()), augment=True)"
   ]
  },
  {
   "cell_type": "code",
   "execution_count": 40,
   "metadata": {
    "colab": {
     "base_uri": "https://localhost:8080/",
     "height": 68
    },
    "colab_type": "code",
    "id": "YtnCv6RHMb6q",
    "outputId": "aa4fbd03-b7b0-4628-8d5b-9f62fa2354d1"
   },
   "outputs": [
    {
     "name": "stdout",
     "output_type": "stream",
     "text": [
      "Final results:\n",
      "  test accuracy:\t\t76.75 %\n",
      "Achievement unlocked: 80lvl Warlock!\n"
     ]
    }
   ],
   "source": [
    "model.load_state_dict(torch.load('model_2_dense_aug'))\n",
    "print_test_accuracy(model, augmented=True)"
   ]
  },
  {
   "cell_type": "code",
   "execution_count": 0,
   "metadata": {
    "colab": {},
    "colab_type": "code",
    "collapsed": true,
    "id": "BZwwQm3qUdu8"
   },
   "outputs": [],
   "source": [
    "model = nn.Sequential()\n",
    "\n",
    "model.add_module('conv_1', nn.Conv2d(in_channels=3, out_channels=16, kernel_size=(3, 3)))\n",
    "model.add_module('conv1_bn', nn.BatchNorm2d(16))\n",
    "model.add_module('pool_1', nn.MaxPool2d((2, 2)))\n",
    "model.add_module('conv_1_relu', nn.ReLU())\n",
    "\n",
    "model.add_module('conv_2', nn.Conv2d(in_channels=16, out_channels=32, kernel_size=(3, 3)))\n",
    "model.add_module('conv_2_bn', nn.BatchNorm2d(32))\n",
    "model.add_module('pool_2', nn.MaxPool2d(2, 2))\n",
    "model.add_module('conv_2_relu', nn.ReLU())\n",
    "\n",
    "model.add_module('conv_3', nn.Conv2d(in_channels=32, out_channels=64, kernel_size=(3, 3)))\n",
    "model.add_module('conv_3_bn', nn.BatchNorm2d(64))\n",
    "model.add_module('pool_3', nn.MaxPool2d(2, 2))\n",
    "model.add_module('conv_3_relu', nn.ReLU())\n",
    "\n",
    "model.add_module('flatten', Flatten())\n",
    "model.add_module('dense_1', nn.Linear(64*2*2, 256))\n",
    "model.add_module('dense_1_bn', nn.BatchNorm1d(256))\n",
    "model.add_module('dense_1_relu', nn.ReLU())\n",
    "\n",
    "model.add_module('drop', nn.Dropout(0.4))\n",
    "\n",
    "model.add_module('dense_2', nn.Linear(256, 128))\n",
    "model.add_module('dense_2_bn', nn.BatchNorm1d(128))\n",
    "model.add_module('dense_2_relu', nn.ReLU())\n",
    "\n",
    "model.add_module('dense_2_logits', nn.Linear(128, 10))\n",
    "\n",
    "if use_cuda:\n",
    "    model = model.cuda()"
   ]
  },
  {
   "cell_type": "code",
   "execution_count": 42,
   "metadata": {
    "colab": {
     "base_uri": "https://localhost:8080/",
     "height": 382
    },
    "colab_type": "code",
    "id": "M7CCqtqaUg2b",
    "outputId": "e31d7027-080d-49ec-ae34-c12e9307f10e"
   },
   "outputs": [
    {
     "name": "stderr",
     "output_type": "stream",
     "text": [
      "/usr/local/lib/python3.6/dist-packages/ipykernel_launcher.py:38: UserWarning: invalid index of a 0-dim tensor. This will be an error in PyTorch 0.5. Use tensor.item() to convert a 0-dim tensor to a Python number\n"
     ]
    },
    {
     "name": "stdout",
     "output_type": "stream",
     "text": [
      "Epoch #73/100 took 28.945s, loss: 0.871412, val_acc: 76.16\n",
      "Early stopped after epoch #73\n",
      "Best validation accuracy: 0.7696, best model saved to \"model_2_dense_aug_drop\"\n"
     ]
    },
    {
     "data": {
      "image/png": "[encoded data removed]",
      "text/plain": [
       "<matplotlib.figure.Figure at 0x7fd9861527f0>"
      ]
     },
     "metadata": {
      "tags": []
     },
     "output_type": "display_data"
    }
   ],
   "source": [
    "train('model_2_dense_aug_drop', model, torch.optim.Adam(model.parameters()), augment=True)"
   ]
  },
  {
   "cell_type": "code",
   "execution_count": 43,
   "metadata": {
    "colab": {
     "base_uri": "https://localhost:8080/",
     "height": 68
    },
    "colab_type": "code",
    "id": "p3ItG2W5UiKz",
    "outputId": "cc81ca6e-5384-4050-c319-406f5bcd1a2f"
   },
   "outputs": [
    {
     "name": "stdout",
     "output_type": "stream",
     "text": [
      "Final results:\n",
      "  test accuracy:\t\t76.74 %\n",
      "Achievement unlocked: 80lvl Warlock!\n"
     ]
    }
   ],
   "source": [
    "model.load_state_dict(torch.load('model_2_dense_aug_drop'))\n",
    "print_test_accuracy(model, augmented=True)"
   ]
  },
  {
   "cell_type": "code",
   "execution_count": 0,
   "metadata": {
    "colab": {},
    "colab_type": "code",
    "collapsed": true,
    "id": "d9nXkLMhWQfs"
   },
   "outputs": [],
   "source": [
    "model = nn.Sequential()\n",
    "\n",
    "model.add_module('conv_1', nn.Conv2d(in_channels=3, out_channels=16, kernel_size=(3, 3)))\n",
    "model.add_module('conv1_bn', nn.BatchNorm2d(16))\n",
    "model.add_module('pool_1', nn.MaxPool2d((2, 2)))\n",
    "model.add_module('conv_1_relu', nn.ReLU())\n",
    "model.add_module(\"drop_1\", nn.Dropout2d(0.1))\n",
    "\n",
    "model.add_module('conv_2', nn.Conv2d(in_channels=16, out_channels=32, kernel_size=(3, 3)))\n",
    "model.add_module('conv_2_bn', nn.BatchNorm2d(32))\n",
    "model.add_module('pool_2', nn.MaxPool2d(2, 2))\n",
    "model.add_module('conv_2_relu', nn.ReLU())\n",
    "model.add_module(\"drop_2\", nn.Dropout2d(0.1))\n",
    "\n",
    "model.add_module('conv_3', nn.Conv2d(in_channels=32, out_channels=64, kernel_size=(3, 3)))\n",
    "model.add_module('conv_3_bn', nn.BatchNorm2d(64))\n",
    "model.add_module('pool_3', nn.MaxPool2d(2, 2))\n",
    "model.add_module('conv_3_relu', nn.ReLU())\n",
    "model.add_module(\"drop_3\", nn.Dropout2d(0.1))\n",
    "\n",
    "model.add_module('flatten', Flatten())\n",
    "model.add_module('dense_1', nn.Linear(64*2*2, 256))\n",
    "model.add_module('dense_1_bn', nn.BatchNorm1d(256))\n",
    "model.add_module('dense_1_relu', nn.ReLU())\n",
    "\n",
    "model.add_module('drop', nn.Dropout(0.4))\n",
    "\n",
    "model.add_module('dense_2', nn.Linear(256, 128))\n",
    "model.add_module('dense_2_bn', nn.BatchNorm1d(128))\n",
    "model.add_module('dense_2_relu', nn.ReLU())\n",
    "\n",
    "model.add_module('dense_2_logits', nn.Linear(128, 10))\n",
    "\n",
    "if use_cuda:\n",
    "    model = model.cuda()"
   ]
  },
  {
   "cell_type": "code",
   "execution_count": 45,
   "metadata": {
    "colab": {
     "base_uri": "https://localhost:8080/",
     "height": 382
    },
    "colab_type": "code",
    "id": "gA3z_Bc3WSje",
    "outputId": "958e344f-16ca-4957-b046-8c303405f332"
   },
   "outputs": [
    {
     "name": "stderr",
     "output_type": "stream",
     "text": [
      "/usr/local/lib/python3.6/dist-packages/ipykernel_launcher.py:38: UserWarning: invalid index of a 0-dim tensor. This will be an error in PyTorch 0.5. Use tensor.item() to convert a 0-dim tensor to a Python number\n"
     ]
    },
    {
     "name": "stdout",
     "output_type": "stream",
     "text": [
      "Epoch #54/100 took 30.529s, loss: 1.207002, val_acc: 70.37\n",
      "Early stopped after epoch #54\n",
      "Best validation accuracy: 0.7081, best model saved to \"model_more_dropout\"\n"
     ]
    },
    {
     "data": {
      "image/png": "[encoded data removed]",
      "text/plain": [
       "<matplotlib.figure.Figure at 0x7fd986133fd0>"
      ]
     },
     "metadata": {
      "tags": []
     },
     "output_type": "display_data"
    }
   ],
   "source": [
    "train('model_more_dropout', model, torch.optim.Adam(model.parameters()), augment=True)"
   ]
  },
  {
   "cell_type": "code",
   "execution_count": 46,
   "metadata": {
    "colab": {
     "base_uri": "https://localhost:8080/",
     "height": 68
    },
    "colab_type": "code",
    "id": "yAquDH8lWTvu",
    "outputId": "a8af674c-218b-4249-efa9-0a84a3cfde03"
   },
   "outputs": [
    {
     "name": "stdout",
     "output_type": "stream",
     "text": [
      "Final results:\n",
      "  test accuracy:\t\t69.48 %\n",
      "Achievement unlocked: 70lvl Warlock!\n"
     ]
    }
   ],
   "source": [
    "model.load_state_dict(torch.load('model_more_dropout'))\n",
    "print_test_accuracy(model, augmented=True)"
   ]
  },
  {
   "cell_type": "code",
   "execution_count": 0,
   "metadata": {
    "colab": {},
    "colab_type": "code",
    "collapsed": true,
    "id": "kOi0xWR5dLpn"
   },
   "outputs": [],
   "source": [
    "model = nn.Sequential()\n",
    "\n",
    "model.add_module('conv_1', nn.Conv2d(in_channels=3, out_channels=16, kernel_size=(3, 3)))\n",
    "model.add_module('conv1_bn', nn.BatchNorm2d(16))\n",
    "model.add_module('conv_1_relu', nn.ReLU())\n",
    "\n",
    "model.add_module('conv_2', nn.Conv2d(in_channels=16, out_channels=32, kernel_size=(3, 3)))\n",
    "model.add_module('conv_2_bn', nn.BatchNorm2d(32))\n",
    "model.add_module('pool_2', nn.MaxPool2d(2, 2))\n",
    "model.add_module('conv_2_relu', nn.ReLU())\n",
    "\n",
    "model.add_module('conv_3', nn.Conv2d(in_channels=32, out_channels=64, kernel_size=(3, 3)))\n",
    "model.add_module('conv_3_bn', nn.BatchNorm2d(64))\n",
    "model.add_module('pool_3', nn.MaxPool2d(2, 2))\n",
    "model.add_module('conv_3_relu', nn.ReLU())\n",
    "\n",
    "model.add_module('conv_4', nn.Conv2d(in_channels=64, out_channels=128, kernel_size=(3, 3)))\n",
    "model.add_module('conv_4_bn', nn.BatchNorm2d(128))\n",
    "model.add_module('pool_4', nn.MaxPool2d(2, 2))\n",
    "model.add_module('conv_4_relu', nn.ReLU())\n",
    "\n",
    "model.add_module('flatten', Flatten())\n",
    "model.add_module('dense_1', nn.Linear(128*2*2, 256))\n",
    "model.add_module('dense_1_bn', nn.BatchNorm1d(256))\n",
    "model.add_module('dense_1_relu', nn.ReLU())\n",
    "\n",
    "model.add_module('drop', nn.Dropout(0.1))\n",
    "\n",
    "model.add_module('dense_2', nn.Linear(256, 128))\n",
    "model.add_module('dense_2_bn', nn.BatchNorm1d(128))\n",
    "model.add_module('dense_2_relu', nn.ReLU())\n",
    "\n",
    "model.add_module('dense_2_logits', nn.Linear(128, 10))\n",
    "\n",
    "if use_cuda:\n",
    "    model = model.cuda()"
   ]
  },
  {
   "cell_type": "code",
   "execution_count": 50,
   "metadata": {
    "colab": {
     "base_uri": "https://localhost:8080/",
     "height": 382
    },
    "colab_type": "code",
    "id": "Pw2vgx4HlZ0_",
    "outputId": "5cf44b64-f361-4cb5-e843-cde7ee0dbcf7"
   },
   "outputs": [
    {
     "name": "stderr",
     "output_type": "stream",
     "text": [
      "/usr/local/lib/python3.6/dist-packages/ipykernel_launcher.py:38: UserWarning: invalid index of a 0-dim tensor. This will be an error in PyTorch 0.5. Use tensor.item() to convert a 0-dim tensor to a Python number\n"
     ]
    },
    {
     "name": "stdout",
     "output_type": "stream",
     "text": [
      "Epoch #72/100 took 30.128s, loss: 0.537085, val_acc: 83.85\n",
      "Early stopped after epoch #72\n",
      "Best validation accuracy: 0.8420, best model saved to \"model_4_conv\"\n"
     ]
    },
    {
     "data": {
      "image/png": "[encoded data removed]",
      "text/plain": [
       "<matplotlib.figure.Figure at 0x7fd986017320>"
      ]
     },
     "metadata": {
      "tags": []
     },
     "output_type": "display_data"
    }
   ],
   "source": [
    "train('model_4_conv', model, torch.optim.Adam(model.parameters()), augment=True)"
   ]
  },
  {
   "cell_type": "code",
   "execution_count": 51,
   "metadata": {
    "colab": {
     "base_uri": "https://localhost:8080/",
     "height": 68
    },
    "colab_type": "code",
    "id": "_1YuGo9OlcbX",
    "outputId": "4f8eb4f8-342f-4612-fbb9-e51ebfae8f2e"
   },
   "outputs": [
    {
     "name": "stdout",
     "output_type": "stream",
     "text": [
      "Final results:\n",
      "  test accuracy:\t\t84.23 %\n",
      "Achievement unlocked: 110lvl Warlock!\n"
     ]
    }
   ],
   "source": [
    "model.load_state_dict(torch.load('model_4_conv'))\n",
    "print_test_accuracy(model, augmented=True)"
   ]
  },
  {
   "cell_type": "markdown",
   "metadata": {
    "colab_type": "text",
    "id": "SG4LN2PwGGoX"
   },
   "source": [
    "```\n",
    "\n",
    "```\n",
    "\n",
    "```\n",
    "\n",
    "```\n",
    "\n",
    "```\n",
    "\n",
    "```\n",
    "\n",
    "\n",
    "# Report\n",
    "\n",
    "All creative approaches are highly welcome, but at the very least it would be great to mention\n",
    "* the idea;\n",
    "* brief history of tweaks and improvements;\n",
    "* what is the final architecture and why?\n",
    "* what is the training method and, again, why?\n",
    "* Any regularizations and other techniques applied and their effects;\n",
    "\n",
    "\n",
    "There is no need to write strict mathematical proofs (unless you want to).\n",
    " * \"I tried this, this and this, and the second one turned out to be better. And i just didn't like the name of that one\" - OK, but can be better\n",
    " * \"I have analized these and these articles|sources|blog posts, tried that and that to adapt them to my problem and the conclusions are such and such\" - the ideal one\n",
    " * \"I took that code that demo without understanding it, but i'll never confess that and instead i'll make up some pseudoscientific explaination\" - __not_ok__"
   ]
  },
  {
   "cell_type": "code",
   "execution_count": 54,
   "metadata": {
    "colab": {
     "base_uri": "https://localhost:8080/",
     "height": 421
    },
    "colab_type": "code",
    "id": "tJx8iR-p6yo-",
    "outputId": "13a09daa-9362-47b1-91a5-d425fdb128b8"
   },
   "outputs": [
    {
     "data": {
      "text/html": [
       "<div>\n",
       "<style scoped>\n",
       "    .dataframe tbody tr th:only-of-type {\n",
       "        vertical-align: middle;\n",
       "    }\n",
       "\n",
       "    .dataframe tbody tr th {\n",
       "        vertical-align: top;\n",
       "    }\n",
       "\n",
       "    .dataframe thead th {\n",
       "        text-align: right;\n",
       "    }\n",
       "</style>\n",
       "<table border=\"1\" class=\"dataframe\">\n",
       "  <thead>\n",
       "    <tr style=\"text-align: right;\">\n",
       "      <th></th>\n",
       "      <th>accuracy</th>\n",
       "      <th>title</th>\n",
       "    </tr>\n",
       "  </thead>\n",
       "  <tbody>\n",
       "    <tr>\n",
       "      <th>0</th>\n",
       "      <td>61.17</td>\n",
       "      <td>1conv</td>\n",
       "    </tr>\n",
       "    <tr>\n",
       "      <th>1</th>\n",
       "      <td>63.97</td>\n",
       "      <td>1conv_more_channels</td>\n",
       "    </tr>\n",
       "    <tr>\n",
       "      <th>2</th>\n",
       "      <td>66.15</td>\n",
       "      <td>2conv</td>\n",
       "    </tr>\n",
       "    <tr>\n",
       "      <th>3</th>\n",
       "      <td>69.48</td>\n",
       "      <td>3conv_2dense_aug_conv_drop</td>\n",
       "    </tr>\n",
       "    <tr>\n",
       "      <th>4</th>\n",
       "      <td>70.59</td>\n",
       "      <td>2conv_bigger_dense</td>\n",
       "    </tr>\n",
       "    <tr>\n",
       "      <th>5</th>\n",
       "      <td>70.59</td>\n",
       "      <td>3conv_2dense_inc_batch_size</td>\n",
       "    </tr>\n",
       "    <tr>\n",
       "      <th>6</th>\n",
       "      <td>70.67</td>\n",
       "      <td>2conv_more_channels</td>\n",
       "    </tr>\n",
       "    <tr>\n",
       "      <th>7</th>\n",
       "      <td>72.03</td>\n",
       "      <td>3conv</td>\n",
       "    </tr>\n",
       "    <tr>\n",
       "      <th>8</th>\n",
       "      <td>72.34</td>\n",
       "      <td>3conv_2dense</td>\n",
       "    </tr>\n",
       "    <tr>\n",
       "      <th>9</th>\n",
       "      <td>76.74</td>\n",
       "      <td>3conv_2dense_aug_inc_drop</td>\n",
       "    </tr>\n",
       "    <tr>\n",
       "      <th>10</th>\n",
       "      <td>76.75</td>\n",
       "      <td>3conv_2dense_aug</td>\n",
       "    </tr>\n",
       "    <tr>\n",
       "      <th>11</th>\n",
       "      <td>84.23</td>\n",
       "      <td>4conv_aug</td>\n",
       "    </tr>\n",
       "  </tbody>\n",
       "</table>\n",
       "</div>"
      ],
      "text/plain": [
       "    accuracy                        title\n",
       "0      61.17                        1conv\n",
       "1      63.97          1conv_more_channels\n",
       "2      66.15                        2conv\n",
       "3      69.48   3conv_2dense_aug_conv_drop\n",
       "4      70.59           2conv_bigger_dense\n",
       "5      70.59  3conv_2dense_inc_batch_size\n",
       "6      70.67          2conv_more_channels\n",
       "7      72.03                        3conv\n",
       "8      72.34                 3conv_2dense\n",
       "9      76.74    3conv_2dense_aug_inc_drop\n",
       "10     76.75             3conv_2dense_aug\n",
       "11     84.23                    4conv_aug"
      ]
     },
     "execution_count": 54,
     "metadata": {
      "tags": []
     },
     "output_type": "execute_result"
    }
   ],
   "source": [
    "import pandas as pd\n",
    "\n",
    "data = {\n",
    "    '1conv': 61.17,\n",
    "    '1conv_more_channels': 63.97,\n",
    "    '2conv': 66.15,\n",
    "    '2conv_more_channels': 70.67,\n",
    "    '3conv': 72.03,\n",
    "    '2conv_bigger_dense': 70.59,\n",
    "    '3conv_2dense': 72.34,\n",
    "    '3conv_2dense_inc_batch_size': 70.59,\n",
    "    '3conv_2dense_aug': 76.75,\n",
    "    '3conv_2dense_aug_inc_drop': 76.74,\n",
    "    '3conv_2dense_aug_conv_drop': 69.48,\n",
    "    '4conv_aug': 84.23\n",
    "}\n",
    "\n",
    "titles, values = zip(*sorted(data.items(), key=lambda x: x[1]))\n",
    "\n",
    "pd.DataFrame.from_dict({'title': titles, 'accuracy': values})"
   ]
  },
  {
   "cell_type": "markdown",
   "metadata": {
    "colab_type": "text",
    "id": "aNYqQm_B67SS"
   },
   "source": [
    "* Started with baseline solution with 1 convolution layer and one dense layer (`1conv` in table, accuracy `61.17`)\n",
    "* Added more channels to that layer which increased accuracy (`1conv_more_channels` in table, accuracy `63.97`)\n",
    "* Added second convolution layer which increased accuracy (`2conv` in table, accuracy `66.15`)\n",
    "* Increased channels count with two conv layers, accuracy increased (`2conv_more_channels` in table, accuracy `70.67`)\n",
    "* Added yet another conv layer, accuracy - `72.03` (`3conv`)\n",
    "* Increased dense layer in model with 2 conv layers, accuracy didn't increase (`2conv_bigger_dense`, `70.59`)\n",
    "* Added second dense layer in model with 3 conv layers, accuracy increased insignificantly (`3conv_2dense`,  `72.34`)\n",
    "* Tried to increase batch size, accuracy decreased (`3conv_2dense_inc_batch_size`, `70.59`)\n",
    "* Tried to feed augmented images during training, accuracy increased significantly (`3conv_2dense_aug`, `76.75`)\n",
    "* Tried increasing dropout, accuracy did not increase (`3conv_2dense_aug_inc_drop`, `76.74`)\n",
    "* Added small dropout after each conv layer, accuracy decreased significantly (`3conv_2dense_aug_conv_drop`, `69.48`)\n",
    "* Finally added another conv layer and removed first max pooling so that there would be enough data for another conv layer, accuracy increased (`4conv_aug`, `84.23`)"
   ]
  },
  {
   "cell_type": "markdown",
   "metadata": {
    "colab_type": "text",
    "id": "cEfBNRL2GGoY"
   },
   "source": [
    "### Hi, my name is `Pavel Vostretsov`, and here's my story\n",
    "\n",
    "A long time ago in a galaxy far far away, when it was still more than an hour before the deadline, i got an idea:\n",
    "\n",
    "##### I gonna build a neural network, that\n",
    "* predicts classes of images\n",
    "* has some convolutional layers, maxpooling layers and batchnorm\n",
    "* because it should work pretty well\n",
    "\n",
    "How could i be so naive?!\n",
    "\n",
    "##### One day, with no signs of warning,\n",
    "This thing has finally converged and\n",
    "* got 84.23 accuracy on test,\n",
    "* data augmentation helped a lot, adding convolution layers and additional dense layer also hepled; dropout layers made it worse and were discarded in final model \n",
    "* additionally, I tried to add dropout after each conv layer, but it made things worse, so it was discarded in final model; also tried to increase batch size, it made things worse too\n",
    "\n",
    "##### Finally, after 11  iterations, many mugs of [tea/coffee]\n",
    "* final architecture was 4 conv layers with batch norm and relu activation (first without maxpooling, other 3 with maxpooling) + 2 dense layers with batch norm and relu\n",
    "* data augmentation during training was used, used Adam optimizer with default step\n",
    "\n",
    "That, having wasted several days of my life training, got\n",
    "\n",
    "* accuracy on validation: 84.20\n",
    "* accuracy on test: 84.23"
   ]
  },
  {
   "cell_type": "code",
   "execution_count": 0,
   "metadata": {
    "colab": {},
    "colab_type": "code",
    "collapsed": true,
    "id": "hVjLqTst6meT"
   },
   "outputs": [],
   "source": []
  }
 ],
 "metadata": {
  "accelerator": "GPU",
  "colab": {
   "collapsed_sections": [],
   "name": "homework_part2.ipynb",
   "provenance": [],
   "version": "0.3.2"
  },
  "kernelspec": {
   "display_name": "Python 3",
   "language": "python",
   "name": "python3"
  },
  "language_info": {
   "codemirror_mode": {
    "name": "ipython",
    "version": 3
   },
   "file_extension": ".py",
   "mimetype": "text/x-python",
   "name": "python",
   "nbconvert_exporter": "python",
   "pygments_lexer": "ipython3",
   "version": "3.6.3"
  }
 },
 "nbformat": 4,
 "nbformat_minor": 1
}
