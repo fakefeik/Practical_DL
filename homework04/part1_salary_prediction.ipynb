{
  "nbformat": 4,
  "nbformat_minor": 0,
  "metadata": {
    "colab": {
      "name": "part1_salary_prediction.ipynb",
      "version": "0.3.2",
      "provenance": [],
      "collapsed_sections": []
    },
    "kernelspec": {
      "name": "python3",
      "display_name": "Python 3"
    },
    "accelerator": "GPU"
  },
  "cells": [
    {
      "metadata": {
        "id": "JFRPeILWXKNu",
        "colab_type": "text"
      },
      "cell_type": "markdown",
      "source": [
        "# Natural Language Processing with Deep Learning\n",
        "\n",
        "__This is exactly the same notebook as in `../week10_textconv/.`__\n",
        "\n",
        "__Feel free submit the seminar notebook, just make sure you read the assignments at the end.__\n",
        "\n",
        "Today we're gonna apply the newly learned DL tools for sequence processing to the task of predicting job salary.\n",
        "\n",
        "Special thanks to [Oleg Vasilev](https://github.com/Omrigan/) for the assignment core (orignally written for theano/tensorflow)."
      ]
    },
    {
      "metadata": {
        "id": "XwRa_ZLfXKNv",
        "colab_type": "code",
        "colab": {}
      },
      "cell_type": "code",
      "source": [
        "import numpy as np\n",
        "import pandas as pd\n",
        "import matplotlib.pyplot as plt\n",
        "%matplotlib inline"
      ],
      "execution_count": 0,
      "outputs": []
    },
    {
      "metadata": {
        "id": "oDFcdbjwXR7Z",
        "colab_type": "code",
        "outputId": "60218a3f-3222-4318-8d9a-2e64b28ba957",
        "colab": {
          "base_uri": "https://localhost:8080/",
          "height": 309
        }
      },
      "cell_type": "code",
      "source": [
        "from os.path import exists\n",
        "from wheel.pep425tags import get_abbr_impl, get_impl_ver, get_abi_tag\n",
        "platform = '{}{}-{}'.format(get_abbr_impl(), get_impl_ver(), get_abi_tag())\n",
        "cuda_output = !ldconfig -p|grep cudart.so|sed -e 's/.*\\.\\([0-9]*\\)\\.\\([0-9]*\\)$/cu\\1\\2/'\n",
        "accelerator = cuda_output[0] if exists('/dev/nvidia0') else 'cpu'\n",
        "\n",
        "!pip install -q http://download.pytorch.org/whl/{accelerator}/torch-0.4.1-{platform}-linux_x86_64.whl torchvision\n",
        "\n",
        "!pip install Pillow==4.1.1\n",
        "\n",
        "!curl -L https://www.dropbox.com/s/5msc5ix7ndyba10/Train_rev1.csv.tar.gz?dl=1 -o Train_rev1.csv.tar.gz\n",
        "!tar -xvzf ./Train_rev1.csv.tar.gz"
      ],
      "execution_count": 2,
      "outputs": [
        {
          "output_type": "stream",
          "text": [
            "tcmalloc: large alloc 1073750016 bytes == 0x58cdc000 @  0x7fb4788142a4 0x591a07 0x5b5d56 0x502e9a 0x506859 0x502209 0x502f3d 0x506859 0x504c28 0x502540 0x502f3d 0x506859 0x504c28 0x502540 0x502f3d 0x506859 0x504c28 0x502540 0x502f3d 0x507641 0x502209 0x502f3d 0x506859 0x504c28 0x502540 0x502f3d 0x507641 0x504c28 0x502540 0x502f3d 0x507641\n",
            "Collecting Pillow==4.1.1\n",
            "\u001b[?25l  Downloading https://files.pythonhosted.org/packages/36/e5/88b3d60924a3f8476fa74ec086f5fbaba56dd6cee0d82845f883b6b6dd18/Pillow-4.1.1-cp36-cp36m-manylinux1_x86_64.whl (5.7MB)\n",
            "\u001b[K    100% |████████████████████████████████| 5.7MB 6.3MB/s \n",
            "\u001b[?25hRequirement already satisfied: olefile in /usr/local/lib/python3.6/dist-packages (from Pillow==4.1.1) (0.46)\n",
            "Installing collected packages: Pillow\n",
            "  Found existing installation: Pillow 5.3.0\n",
            "    Uninstalling Pillow-5.3.0:\n",
            "      Successfully uninstalled Pillow-5.3.0\n",
            "Successfully installed Pillow-4.1.1\n",
            "  % Total    % Received % Xferd  Average Speed   Time    Time     Time  Current\n",
            "                                 Dload  Upload   Total   Spent    Left  Speed\n",
            "  0     0    0     0    0     0      0      0 --:--:-- --:--:-- --:--:--     0\n",
            "  0     0    0     0    0     0      0      0 --:--:-- --:--:-- --:--:--     0\n",
            "100  119M  100  119M    0     0  16.6M      0  0:00:07  0:00:07 --:--:-- 24.7M\n",
            "Train_rev1.csv\n"
          ],
          "name": "stdout"
        }
      ]
    },
    {
      "metadata": {
        "id": "6O3tpwlzXKN0",
        "colab_type": "text"
      },
      "cell_type": "markdown",
      "source": [
        "### About the challenge\n",
        "For starters, let's download the data from __[here](https://yadi.sk/d/vVEOWPFY3NruT7)__.\n",
        "\n",
        "You can also get it from the competition [page](https://www.kaggle.com/c/job-salary-prediction/data) (in that case, pick `Train_rev1.*`).\n",
        "\n",
        "\n",
        "Our task is to predict one number, __SalaryNormalized__, in the sense of minimizing __Mean Absolute Error__.\n",
        "\n",
        "<img src=\"https://kaggle2.blob.core.windows.net/competitions/kaggle/3342/media/salary%20prediction%20engine%20v2.png\" width=400px>\n",
        "\n",
        "To do so, our model ca access a number of features:\n",
        "* Free text: __`Title`__ and  __`FullDescription`__\n",
        "* Categorical: __`Category`__, __`Company`__, __`LocationNormalized`__, __`ContractType`__, and __`ContractTime`__.\n",
        "\n",
        "\n",
        "You can read more [in the official description](https://www.kaggle.com/c/job-salary-prediction#description)."
      ]
    },
    {
      "metadata": {
        "id": "jKyHuxV8XKN2",
        "colab_type": "code",
        "outputId": "a6a57956-f006-41d5-e936-2d56dbb4c23e",
        "colab": {
          "base_uri": "https://localhost:8080/",
          "height": 315
        }
      },
      "cell_type": "code",
      "source": [
        "data = pd.read_csv(\"./Train_rev1.csv\", index_col=None)\n",
        "data['Log1pSalary'] = np.log1p(data['SalaryNormalized']).astype('float32')\n",
        "\n",
        "text_columns = [\"Title\", \"FullDescription\"]\n",
        "categorical_columns = [\"Category\", \"Company\", \"LocationNormalized\", \"ContractType\", \"ContractTime\"]\n",
        "target_column = \"Log1pSalary\"\n",
        "data[categorical_columns] = data[categorical_columns].fillna('NaN') # cast nan to string\n",
        "\n",
        "data.sample(3)"
      ],
      "execution_count": 3,
      "outputs": [
        {
          "output_type": "execute_result",
          "data": {
            "text/html": [
              "<div>\n",
              "<style scoped>\n",
              "    .dataframe tbody tr th:only-of-type {\n",
              "        vertical-align: middle;\n",
              "    }\n",
              "\n",
              "    .dataframe tbody tr th {\n",
              "        vertical-align: top;\n",
              "    }\n",
              "\n",
              "    .dataframe thead th {\n",
              "        text-align: right;\n",
              "    }\n",
              "</style>\n",
              "<table border=\"1\" class=\"dataframe\">\n",
              "  <thead>\n",
              "    <tr style=\"text-align: right;\">\n",
              "      <th></th>\n",
              "      <th>Id</th>\n",
              "      <th>Title</th>\n",
              "      <th>FullDescription</th>\n",
              "      <th>LocationRaw</th>\n",
              "      <th>LocationNormalized</th>\n",
              "      <th>ContractType</th>\n",
              "      <th>ContractTime</th>\n",
              "      <th>Company</th>\n",
              "      <th>Category</th>\n",
              "      <th>SalaryRaw</th>\n",
              "      <th>SalaryNormalized</th>\n",
              "      <th>SourceName</th>\n",
              "      <th>Log1pSalary</th>\n",
              "    </tr>\n",
              "  </thead>\n",
              "  <tbody>\n",
              "    <tr>\n",
              "      <th>183036</th>\n",
              "      <td>71620595</td>\n",
              "      <td>Charge Nurse  Band 7</td>\n",
              "      <td>Charge Nurse Band 7 Permanent, 37.5 hours per ...</td>\n",
              "      <td>Scotland</td>\n",
              "      <td>Scotland</td>\n",
              "      <td>full_time</td>\n",
              "      <td>NaN</td>\n",
              "      <td>NHS Lothian</td>\n",
              "      <td>Healthcare &amp; Nursing Jobs</td>\n",
              "      <td>30,460.00 - 40,157.00 per annum</td>\n",
              "      <td>35308</td>\n",
              "      <td>rcnbulletinjobs.co.uk</td>\n",
              "      <td>10.471893</td>\n",
              "    </tr>\n",
              "    <tr>\n",
              "      <th>156862</th>\n",
              "      <td>71098489</td>\n",
              "      <td>Control Systems (PLC) Engineer</td>\n",
              "      <td>Working within an existing major project in th...</td>\n",
              "      <td>UK</td>\n",
              "      <td>UK</td>\n",
              "      <td>full_time</td>\n",
              "      <td>permanent</td>\n",
              "      <td>London4Jobs</td>\n",
              "      <td>Engineering Jobs</td>\n",
              "      <td>30000-39999</td>\n",
              "      <td>34999</td>\n",
              "      <td>london4jobs.co.uk</td>\n",
              "      <td>10.463103</td>\n",
              "    </tr>\n",
              "    <tr>\n",
              "      <th>69286</th>\n",
              "      <td>68805221</td>\n",
              "      <td>Civil Infrastructure Engineer</td>\n",
              "      <td>Introduction An excellent opportunity to work ...</td>\n",
              "      <td>Reading</td>\n",
              "      <td>Reading</td>\n",
              "      <td>NaN</td>\n",
              "      <td>NaN</td>\n",
              "      <td>Matchtech Group plc.</td>\n",
              "      <td>Engineering Jobs</td>\n",
              "      <td>25,000 - 30,000/yr</td>\n",
              "      <td>27500</td>\n",
              "      <td>rengineeringjobs.com</td>\n",
              "      <td>10.221977</td>\n",
              "    </tr>\n",
              "  </tbody>\n",
              "</table>\n",
              "</div>"
            ],
            "text/plain": [
              "              Id                           Title  \\\n",
              "183036  71620595            Charge Nurse  Band 7   \n",
              "156862  71098489  Control Systems (PLC) Engineer   \n",
              "69286   68805221   Civil Infrastructure Engineer   \n",
              "\n",
              "                                          FullDescription LocationRaw  \\\n",
              "183036  Charge Nurse Band 7 Permanent, 37.5 hours per ...    Scotland   \n",
              "156862  Working within an existing major project in th...          UK   \n",
              "69286   Introduction An excellent opportunity to work ...     Reading   \n",
              "\n",
              "       LocationNormalized ContractType ContractTime               Company  \\\n",
              "183036           Scotland    full_time          NaN           NHS Lothian   \n",
              "156862                 UK    full_time    permanent           London4Jobs   \n",
              "69286             Reading          NaN          NaN  Matchtech Group plc.   \n",
              "\n",
              "                         Category                        SalaryRaw  \\\n",
              "183036  Healthcare & Nursing Jobs  30,460.00 - 40,157.00 per annum   \n",
              "156862           Engineering Jobs                      30000-39999   \n",
              "69286            Engineering Jobs               25,000 - 30,000/yr   \n",
              "\n",
              "        SalaryNormalized             SourceName  Log1pSalary  \n",
              "183036             35308  rcnbulletinjobs.co.uk    10.471893  \n",
              "156862             34999      london4jobs.co.uk    10.463103  \n",
              "69286              27500   rengineeringjobs.com    10.221977  "
            ]
          },
          "metadata": {
            "tags": []
          },
          "execution_count": 3
        }
      ]
    },
    {
      "metadata": {
        "id": "ekRgCMC_XKN8",
        "colab_type": "text"
      },
      "cell_type": "markdown",
      "source": [
        "### The NLP part\n",
        "\n",
        "To even begin training our neural network, we're gonna need to preprocess the text features: tokenize it and build the token vocabularies.\n",
        "\n",
        "Since it is not an NLP course, we're gonna use simple built-in NLTK tokenization."
      ]
    },
    {
      "metadata": {
        "id": "IvSX9_MXXKN_",
        "colab_type": "code",
        "outputId": "d52f207e-46db-4506-ea26-26475061fa25",
        "colab": {
          "base_uri": "https://localhost:8080/",
          "height": 102
        }
      },
      "cell_type": "code",
      "source": [
        "print(\"Before\")\n",
        "print(data[\"Title\"][::100000])"
      ],
      "execution_count": 4,
      "outputs": [
        {
          "output_type": "stream",
          "text": [
            "Before\n",
            "0         Engineering Systems Analyst\n",
            "100000                   HR Assistant\n",
            "200000           Senior EC&I Engineer\n",
            "Name: Title, dtype: object\n"
          ],
          "name": "stdout"
        }
      ]
    },
    {
      "metadata": {
        "id": "m2hz7cVTXKOD",
        "colab_type": "code",
        "colab": {}
      },
      "cell_type": "code",
      "source": [
        "import nltk\n",
        "tokenizer = nltk.tokenize.WordPunctTokenizer()\n",
        "\n",
        "for col in text_columns:\n",
        "    data[col] = data[col].apply(lambda l: ' '.join(tokenizer.tokenize(str(l).lower())))"
      ],
      "execution_count": 0,
      "outputs": []
    },
    {
      "metadata": {
        "id": "ocJO5db3XKOH",
        "colab_type": "text"
      },
      "cell_type": "markdown",
      "source": [
        "Now we can assume that our text is a space-separated list of tokens:"
      ]
    },
    {
      "metadata": {
        "id": "k8LytRnCXKOH",
        "colab_type": "code",
        "outputId": "31eafdf2-685e-4ca6-a2d0-fd4e99320d13",
        "colab": {
          "base_uri": "https://localhost:8080/",
          "height": 102
        }
      },
      "cell_type": "code",
      "source": [
        "print(\"After\")\n",
        "print(data[\"Title\"][::100000])"
      ],
      "execution_count": 6,
      "outputs": [
        {
          "output_type": "stream",
          "text": [
            "After\n",
            "0         engineering systems analyst\n",
            "100000                   hr assistant\n",
            "200000         senior ec & i engineer\n",
            "Name: Title, dtype: object\n"
          ],
          "name": "stdout"
        }
      ]
    },
    {
      "metadata": {
        "id": "a3c7DZdfXKON",
        "colab_type": "text"
      },
      "cell_type": "markdown",
      "source": [
        "Not all words are equally useful. Some of them are typos or rare words that are only present a few times. \n",
        "\n",
        "Let's see how many times is each word present in the data so that we can build a \"white list\" of known words."
      ]
    },
    {
      "metadata": {
        "id": "LTHnG8g1XKON",
        "colab_type": "code",
        "colab": {}
      },
      "cell_type": "code",
      "source": [
        "from collections import Counter\n",
        "token_counts = Counter()\n",
        "\n",
        "# Count how many times does each token occur in both \"Title\" and \"FullDescription\" fields\n",
        "for e in data['Title'].append(data['FullDescription']):\n",
        "    for s in e.split(' '):\n",
        "        token_counts[s] += 1"
      ],
      "execution_count": 0,
      "outputs": []
    },
    {
      "metadata": {
        "id": "iCzZeue1XKOR",
        "colab_type": "code",
        "outputId": "a7b9deaf-8ab1-4e8c-d58d-c5c29bd5b571",
        "colab": {
          "base_uri": "https://localhost:8080/",
          "height": 204
        }
      },
      "cell_type": "code",
      "source": [
        "print(\"Total unique tokens :\", len(token_counts))\n",
        "print('\\n'.join(map(str, token_counts.most_common(n=5))))\n",
        "print('...')\n",
        "print('\\n'.join(map(str, token_counts.most_common()[-3:])))\n",
        "\n",
        "assert token_counts.most_common(1)[0][1] in  range(2600000, 2700000)\n",
        "assert len(token_counts) in range(200000, 210000)\n",
        "print('Correct!')"
      ],
      "execution_count": 8,
      "outputs": [
        {
          "output_type": "stream",
          "text": [
            "Total unique tokens : 202704\n",
            "('and', 2657388)\n",
            "('.', 2523216)\n",
            "(',', 2318606)\n",
            "('the', 2080994)\n",
            "('to', 2019884)\n",
            "...\n",
            "('stephanietraveltraderecruitmnt', 1)\n",
            "('ruabon', 1)\n",
            "('lowehays', 1)\n",
            "Correct!\n"
          ],
          "name": "stdout"
        }
      ]
    },
    {
      "metadata": {
        "id": "5777dR52XKOY",
        "colab_type": "code",
        "outputId": "3d6553b5-4d1d-4c50-c7f3-3526bbf31127",
        "colab": {
          "base_uri": "https://localhost:8080/",
          "height": 296
        }
      },
      "cell_type": "code",
      "source": [
        "# Let's see how many words are there for each count\n",
        "\n",
        "_=plt.hist(list(token_counts.values()), range=[0, 10**4], bins=50, log=True)\n",
        "plt.xlabel(\"Counts\")"
      ],
      "execution_count": 9,
      "outputs": [
        {
          "output_type": "execute_result",
          "data": {
            "text/plain": [
              "Text(0.5,0,'Counts')"
            ]
          },
          "metadata": {
            "tags": []
          },
          "execution_count": 9
        },
        {
          "output_type": "display_data",
          "data": {
            "image/png": "[encoded data removed]",
            "text/plain": [
              "<matplotlib.figure.Figure at 0x7f26947332b0>"
            ]
          },
          "metadata": {
            "tags": []
          }
        }
      ]
    },
    {
      "metadata": {
        "id": "FzcaqJYaXKOe",
        "colab_type": "text"
      },
      "cell_type": "markdown",
      "source": [
        "__Task 1.1__ Get a list of all tokens that occur at least 10 times."
      ]
    },
    {
      "metadata": {
        "id": "dajsdC8SXKOf",
        "colab_type": "code",
        "colab": {}
      },
      "cell_type": "code",
      "source": [
        "min_count = 10\n",
        "\n",
        "# tokens from token_counts keys that had at least min_count occurrences throughout the dataset\n",
        "tokens = [el for el in token_counts.keys() if token_counts[el] >= min_count]\n",
        "\n",
        "# Add a special tokens for unknown and empty words\n",
        "UNK, PAD = \"UNK\", \"PAD\"\n",
        "tokens = [UNK, PAD] + tokens"
      ],
      "execution_count": 0,
      "outputs": []
    },
    {
      "metadata": {
        "id": "Nb9OKFoxXKOl",
        "colab_type": "code",
        "outputId": "a60bc659-8850-4b07-fb52-cacd94705e84",
        "colab": {
          "base_uri": "https://localhost:8080/",
          "height": 51
        }
      },
      "cell_type": "code",
      "source": [
        "print(\"Tokens left:\", len(tokens))\n",
        "assert type(tokens)==list\n",
        "assert len(tokens) in range(32000,35000)\n",
        "assert 'me' in tokens\n",
        "assert UNK in tokens\n",
        "print(\"Correct!\")"
      ],
      "execution_count": 11,
      "outputs": [
        {
          "output_type": "stream",
          "text": [
            "Tokens left: 34158\n",
            "Correct!\n"
          ],
          "name": "stdout"
        }
      ]
    },
    {
      "metadata": {
        "id": "xPEeO5_EXKOo",
        "colab_type": "text"
      },
      "cell_type": "markdown",
      "source": [
        "__Task 1.2__ Build an inverse token index: a dictionary from token(string) to it's index in `tokens` (int)"
      ]
    },
    {
      "metadata": {
        "id": "lwzHd4zeXKOp",
        "colab_type": "code",
        "colab": {}
      },
      "cell_type": "code",
      "source": [
        "token_to_id = {tokens[i]: i for i in range(len(tokens))}"
      ],
      "execution_count": 0,
      "outputs": []
    },
    {
      "metadata": {
        "id": "XmasKGtZXKOs",
        "colab_type": "code",
        "outputId": "a8f11d63-09ca-45f1-8b55-6f0b5a02b208",
        "colab": {
          "base_uri": "https://localhost:8080/",
          "height": 34
        }
      },
      "cell_type": "code",
      "source": [
        "assert isinstance(token_to_id, dict)\n",
        "assert len(token_to_id) == len(tokens)\n",
        "for tok in tokens:\n",
        "    assert tokens[token_to_id[tok]] == tok\n",
        "\n",
        "print(\"Correct!\")"
      ],
      "execution_count": 13,
      "outputs": [
        {
          "output_type": "stream",
          "text": [
            "Correct!\n"
          ],
          "name": "stdout"
        }
      ]
    },
    {
      "metadata": {
        "id": "GcE5bD37XKOw",
        "colab_type": "text"
      },
      "cell_type": "markdown",
      "source": [
        "And finally, let's use the vocabulary you've built to map text lines into torch-digestible matrices."
      ]
    },
    {
      "metadata": {
        "id": "wQcgWWWvXKOz",
        "colab_type": "code",
        "colab": {}
      },
      "cell_type": "code",
      "source": [
        "UNK_IX, PAD_IX = map(token_to_id.get, [UNK, PAD])\n",
        "\n",
        "def as_matrix(sequences, max_len=None):\n",
        "    \"\"\" Convert a list of tokens into a matrix with padding \"\"\"\n",
        "    if isinstance(sequences[0], str):\n",
        "        sequences = list(map(str.split, sequences))\n",
        "        \n",
        "    max_len = min(max(map(len, sequences)), max_len or float('inf'))\n",
        "    \n",
        "    matrix = np.full((len(sequences), max_len), np.int32(PAD_IX))\n",
        "    for i,seq in enumerate(sequences):\n",
        "        row_ix = [token_to_id.get(word, UNK_IX) for word in seq[:max_len]]\n",
        "        matrix[i, :len(row_ix)] = row_ix\n",
        "    \n",
        "    return matrix"
      ],
      "execution_count": 0,
      "outputs": []
    },
    {
      "metadata": {
        "id": "KSh7w9nwXKO2",
        "colab_type": "code",
        "outputId": "f6cdbbfb-6128-4b55-ef85-b1d1b7c62584",
        "colab": {
          "base_uri": "https://localhost:8080/",
          "height": 153
        }
      },
      "cell_type": "code",
      "source": [
        "#### print(\"Lines:\")\n",
        "print('\\n'.join(data[\"Title\"][::100000].values), end='\\n\\n')\n",
        "print(\"Matrix:\")\n",
        "print(as_matrix(data[\"Title\"][::100000]))"
      ],
      "execution_count": 15,
      "outputs": [
        {
          "output_type": "stream",
          "text": [
            "engineering systems analyst\n",
            "hr assistant\n",
            "senior ec & i engineer\n",
            "\n",
            "Matrix:\n",
            "[[   2    3    4    1    1]\n",
            " [ 998  176    1    1    1]\n",
            " [  18 3472  242   59    6]]\n"
          ],
          "name": "stdout"
        }
      ]
    },
    {
      "metadata": {
        "id": "7d1BfnNWXKO6",
        "colab_type": "text"
      },
      "cell_type": "markdown",
      "source": [
        "Now let's  encode the categirical data we have.\n",
        "\n",
        "As usual, we shall use one-hot encoding for simplicity. Kudos if you implement tf-idf, target averaging or pseudo-counter-based encoding."
      ]
    },
    {
      "metadata": {
        "id": "A13_9KpWXKO7",
        "colab_type": "code",
        "outputId": "0ccac4fb-9a99-480a-a693-9c82b55d1dda",
        "colab": {
          "base_uri": "https://localhost:8080/",
          "height": 51
        }
      },
      "cell_type": "code",
      "source": [
        "from sklearn.feature_extraction import DictVectorizer\n",
        "\n",
        "# we only consider top-1k most frequent companies to minimize memory usage\n",
        "top_companies, top_counts = zip(*Counter(data['Company']).most_common(1000))\n",
        "recognized_companies = set(top_companies)\n",
        "data[\"Company\"] = data[\"Company\"].apply(lambda comp: comp if comp in recognized_companies else \"Other\")\n",
        "\n",
        "categorical_vectorizer = DictVectorizer(dtype=np.float32, sparse=False)\n",
        "categorical_vectorizer.fit(data[categorical_columns].apply(dict, axis=1))"
      ],
      "execution_count": 16,
      "outputs": [
        {
          "output_type": "execute_result",
          "data": {
            "text/plain": [
              "DictVectorizer(dtype=<class 'numpy.float32'>, separator='=', sort=True,\n",
              "        sparse=False)"
            ]
          },
          "metadata": {
            "tags": []
          },
          "execution_count": 16
        }
      ]
    },
    {
      "metadata": {
        "id": "LdgC-rUPXKPA",
        "colab_type": "text"
      },
      "cell_type": "markdown",
      "source": [
        "### The data science part\n",
        "\n",
        "Once we've learned to tokenize the data, let's design a machine learning experiment.\n",
        "\n",
        "As before, we won't focus too much on validation, opting for a simple train-test split.\n",
        "\n",
        "__To be completely rigorous,__ we've comitted a small crime here: we used the whole data for tokenization and vocabulary building. A more strict way would be to do that part on training set only. You may want to do that and measure the magnitude of changes."
      ]
    },
    {
      "metadata": {
        "id": "uNgkEJk-XKPq",
        "colab_type": "code",
        "outputId": "dfbde25a-3b35-4e7f-ad22-404ffd336e67",
        "colab": {
          "base_uri": "https://localhost:8080/",
          "height": 51
        }
      },
      "cell_type": "code",
      "source": [
        "from sklearn.model_selection import train_test_split\n",
        "\n",
        "data_train, data_val = train_test_split(data, test_size=0.1, random_state=42)\n",
        "\n",
        "print(\"Train size = \", len(data_train))\n",
        "print(\"Validation size = \", len(data_val))"
      ],
      "execution_count": 17,
      "outputs": [
        {
          "output_type": "stream",
          "text": [
            "Train size =  220291\n",
            "Validation size =  24477\n"
          ],
          "name": "stdout"
        }
      ]
    },
    {
      "metadata": {
        "id": "Tq_quBV5XKP5",
        "colab_type": "code",
        "colab": {}
      },
      "cell_type": "code",
      "source": [
        "def generate_batch(data, batch_size=None, replace=True, max_len=None):\n",
        "    \"\"\"\n",
        "    Creates a pytorch-friendly dict from the batch data.\n",
        "    :returns: a dict with {'title' : int64[batch, title_max_len]\n",
        "    \"\"\"\n",
        "    if batch_size is not None:\n",
        "        data = data.sample(batch_size, replace=replace)\n",
        "    \n",
        "    batch = {}\n",
        "    for col in text_columns:\n",
        "        batch[col] = as_matrix(data[col].values, max_len)\n",
        "    \n",
        "    batch['Categorical'] = categorical_vectorizer.transform(data[categorical_columns].apply(dict, axis=1))\n",
        "    \n",
        "    if target_column in data.columns:\n",
        "        batch[target_column] = data[target_column].values\n",
        "    \n",
        "    return batch"
      ],
      "execution_count": 0,
      "outputs": []
    },
    {
      "metadata": {
        "id": "aRG4iubVXKP-",
        "colab_type": "code",
        "outputId": "60c54504-c1b8-4f62-aed5-6c9b1ffc5d2d",
        "colab": {
          "base_uri": "https://localhost:8080/",
          "height": 255
        }
      },
      "cell_type": "code",
      "source": [
        "generate_batch(data_train, 3, max_len=10)"
      ],
      "execution_count": 19,
      "outputs": [
        {
          "output_type": "execute_result",
          "data": {
            "text/plain": [
              "{'Categorical': array([[0., 0., 0., ..., 0., 0., 0.],\n",
              "        [0., 0., 0., ..., 0., 0., 0.],\n",
              "        [0., 0., 0., ..., 0., 0., 0.]], dtype=float32),\n",
              " 'FullDescription': array([[ 4167,  3518,    15,   142,  6078, 10885,    73, 12559,    73,\n",
              "           110],\n",
              "        [ 3199,   558,   559,   944,    86,  2454,    73,   561,  2541,\n",
              "            86],\n",
              "        [  110,  1293,  4128,   282,  1464,   944,    73,  2497,  6568,\n",
              "             9]], dtype=int32),\n",
              " 'Log1pSalary': array([10.307585, 10.085851, 10.532123], dtype=float32),\n",
              " 'Title': array([[ 442, 1472, 1414,    1,    1,    1,    1,    1,    1,    1],\n",
              "        [2541,    1,    1,    1,    1,    1,    1,    1,    1,    1],\n",
              "        [ 177,  101,  102,   88, 1513, 7838, 7839, 9346, 1513,   34]],\n",
              "       dtype=int32)}"
            ]
          },
          "metadata": {
            "tags": []
          },
          "execution_count": 19
        }
      ]
    },
    {
      "metadata": {
        "id": "6NTlFvWbXKQJ",
        "colab_type": "text"
      },
      "cell_type": "markdown",
      "source": [
        "### Finally, let's talk deep learning\n",
        "\n",
        "Out model consists of three branches:\n",
        "* Title encoder\n",
        "* Description encoder\n",
        "* Categorical features encoder\n",
        "\n",
        "We will then feed all 3 branches into one common network that predicts salary.\n",
        "\n",
        "![scheme](https://github.com/yandexdataschool/Practical_DL/raw/master/homework04/conv_salary_architecture.png)"
      ]
    },
    {
      "metadata": {
        "id": "hD3CzuZiXKQK",
        "colab_type": "text"
      },
      "cell_type": "markdown",
      "source": [
        "By default, both text vectorizers shall use 1d convolutions, followed by global pooling over time."
      ]
    },
    {
      "metadata": {
        "id": "lb7Q3vR_X3oX",
        "colab_type": "code",
        "outputId": "ae0950a6-285f-4f83-b1d9-f467000bbcdf",
        "colab": {
          "base_uri": "https://localhost:8080/",
          "height": 34
        }
      },
      "cell_type": "code",
      "source": [
        "import torch\n",
        "import torch.nn as nn\n",
        "import torch.nn.functional as F\n",
        "\n",
        "from torch.autograd import Variable\n",
        "\n",
        "use_cuda = torch.cuda.is_available()\n",
        "use_cuda, torch.version.cuda, torch.__version__"
      ],
      "execution_count": 20,
      "outputs": [
        {
          "output_type": "execute_result",
          "data": {
            "text/plain": [
              "(True, '9.2.148', '0.4.1')"
            ]
          },
          "metadata": {
            "tags": []
          },
          "execution_count": 20
        }
      ]
    },
    {
      "metadata": {
        "id": "zcmd19HQXKQM",
        "colab_type": "code",
        "colab": {}
      },
      "cell_type": "code",
      "source": [
        "class GlobalMaxPooling(nn.Module):\n",
        "    def __init__(self, dim=-1):\n",
        "        super(self.__class__, self).__init__()\n",
        "        self.dim = dim\n",
        "        \n",
        "    def forward(self, x):\n",
        "        return x.max(dim=self.dim)[0]\n",
        "    \n",
        "def maybe_batchnorm(model, use_batchnorm, name, bn):\n",
        "    if use_batchnorm:\n",
        "        model.add_module(name, bn)"
      ],
      "execution_count": 0,
      "outputs": []
    },
    {
      "metadata": {
        "id": "JpJ_PTRUXKQS",
        "colab_type": "code",
        "colab": {}
      },
      "cell_type": "code",
      "source": [
        "class TitleEncoder(nn.Module):\n",
        "    def __init__(self, emb_w=None, use_batchnorm=False, n_conv=1, n_tokens=len(tokens), emb_size=64, out_size=64):\n",
        "        \"\"\" \n",
        "        A simple sequential encoder for titles.\n",
        "        x -> emb -> conv -> global_max -> relu -> dense\n",
        "        \"\"\"\n",
        "        super(self.__class__, self).__init__()\n",
        "        \n",
        "        self.emb = nn.Embedding(n_tokens, emb_size, padding_idx=PAD_IX)\n",
        "        if emb_w is not None:\n",
        "            self.emb.weight.data.copy_(torch.from_numpy(emb_w))\n",
        "        \n",
        "        self.encoder = nn.Sequential()\n",
        "        for i in range(n_conv):\n",
        "            self.encoder.add_module(f'conv{i}', nn.Conv1d(emb_size, out_size, kernel_size=3, padding=1))\n",
        "            maybe_batchnorm(self.encoder, use_batchnorm, f'bn{i}', nn.BatchNorm1d(out_size))\n",
        "            self.encoder.add_module(f'relu{i}', nn.ReLU())\n",
        "        \n",
        "        self.encoder.add_module('pool1', GlobalMaxPooling())\n",
        "        self.encoder.add_module('dense', nn.Linear(out_size, out_size))\n",
        "\n",
        "    def forward(self, text_ix):\n",
        "        \"\"\"\n",
        "        :param text_ix: int64 Variable of shape [batch_size, max_len]\n",
        "        :returns: float32 Variable of shape [batch_size, out_size]\n",
        "        \"\"\"\n",
        "        h = self.emb(text_ix)\n",
        "\n",
        "        # we transpose from [batch, time, units] to [batch, units, time] to fit Conv1d dim order\n",
        "        h = torch.transpose(h, 1, 2)\n",
        "        \n",
        "        # Apply the layers as defined above. Add some ReLUs before dense.\n",
        "        return self.encoder(h)"
      ],
      "execution_count": 0,
      "outputs": []
    },
    {
      "metadata": {
        "id": "BEBEqtN4XKQW",
        "colab_type": "code",
        "outputId": "c2441c35-959f-4b85-dcc5-ec3ca23cdd90",
        "colab": {
          "base_uri": "https://localhost:8080/",
          "height": 34
        }
      },
      "cell_type": "code",
      "source": [
        "title_encoder = TitleEncoder(out_size=64)\n",
        "\n",
        "dummy_x = Variable(torch.LongTensor(generate_batch(data_train, 3)['Title']))\n",
        "dummy_v = title_encoder(dummy_x)\n",
        "\n",
        "assert isinstance(dummy_v, Variable)\n",
        "assert tuple(dummy_v.shape) == (dummy_x.shape[0], 64)\n",
        "\n",
        "del title_encoder\n",
        "print(\"Seems fine\")"
      ],
      "execution_count": 23,
      "outputs": [
        {
          "output_type": "stream",
          "text": [
            "Seems fine\n"
          ],
          "name": "stdout"
        }
      ]
    },
    {
      "metadata": {
        "id": "OuKdyhDHXKQa",
        "colab_type": "text"
      },
      "cell_type": "markdown",
      "source": [
        "__Task 2.1__ Create description encoder"
      ]
    },
    {
      "metadata": {
        "id": "VHv4Qeo3XKQc",
        "colab_type": "code",
        "colab": {}
      },
      "cell_type": "code",
      "source": [
        "# Define an encoder for job descriptions.\n",
        "# Use any means you want so long as it's torch.nn.Module.\n",
        "class DescriptionEncoder(nn.Module):\n",
        "    def __init__(self, emb_w=None, use_batchnorm=False, n_conv=1, n_tokens=len(tokens), emb_size=64, out_size=64):\n",
        "        \"\"\" \n",
        "        A simple sequential encoder for titles.\n",
        "        x -> emb -> conv -> global_max -> relu -> dense\n",
        "        \"\"\"\n",
        "        super(self.__class__, self).__init__()\n",
        "        \n",
        "        self.emb = nn.Embedding(n_tokens, emb_size, padding_idx=PAD_IX)\n",
        "        if emb_w is not None:\n",
        "            self.emb.weight.data.copy_(torch.from_numpy(emb_w))\n",
        "        \n",
        "        self.encoder = nn.Sequential()\n",
        "        for i in range(n_conv):\n",
        "            self.encoder.add_module(f'conv{i}', nn.Conv1d(emb_size, out_size, kernel_size=3, padding=1))\n",
        "            maybe_batchnorm(self.encoder, use_batchnorm, f'bn{i}', nn.BatchNorm1d(out_size))\n",
        "            self.encoder.add_module(f'relu{i}', nn.ReLU())\n",
        "        \n",
        "        self.encoder.add_module('pool1', GlobalMaxPooling())\n",
        "        self.encoder.add_module('dense', nn.Linear(out_size, out_size))\n",
        "\n",
        "    def forward(self, text_ix):\n",
        "        \"\"\"\n",
        "        :param text_ix: int64 Variable of shape [batch_size, max_len]\n",
        "        :returns: float32 Variable of shape [batch_size, out_size]\n",
        "        \"\"\"\n",
        "        h = self.emb(text_ix)\n",
        "\n",
        "        # we transpose from [batch, time, units] to [batch, units, time] to fit Conv1d dim order\n",
        "        h = torch.transpose(h, 1, 2)\n",
        "        \n",
        "        # Apply the layers as defined above. Add some ReLUs before dense.\n",
        "        return self.encoder(h)"
      ],
      "execution_count": 0,
      "outputs": []
    },
    {
      "metadata": {
        "id": "43g7lnnvXKQi",
        "colab_type": "code",
        "outputId": "953922c4-9064-46aa-c36c-f1285c7786d3",
        "colab": {
          "base_uri": "https://localhost:8080/",
          "height": 34
        }
      },
      "cell_type": "code",
      "source": [
        "desc_encoder = DescriptionEncoder()\n",
        "\n",
        "dummy_x = Variable(torch.LongTensor(generate_batch(data_train, 3)['FullDescription']))\n",
        "dummy_v = desc_encoder(dummy_x)\n",
        "\n",
        "assert isinstance(dummy_v, Variable)\n",
        "assert tuple(dummy_v.shape) == (dummy_x.shape[0], 64)\n",
        "del desc_encoder\n",
        "print(\"Seems fine too\")"
      ],
      "execution_count": 25,
      "outputs": [
        {
          "output_type": "stream",
          "text": [
            "Seems fine too\n"
          ],
          "name": "stdout"
        }
      ]
    },
    {
      "metadata": {
        "id": "XutyywYMXKQp",
        "colab_type": "text"
      },
      "cell_type": "markdown",
      "source": [
        "__ Task 2.2__ Build one network ~~to rule them all~~"
      ]
    },
    {
      "metadata": {
        "id": "xX5mrRH9XKQr",
        "colab_type": "code",
        "colab": {}
      },
      "cell_type": "code",
      "source": [
        "class FullNetwork(nn.Module):\n",
        "    \"\"\"\n",
        "    This class does all the steps from (title, desc, categorical) features -> predicted target\n",
        "    It unites title & desc encoders you defined above as long as some layers for head and categorical branch.\n",
        "    \"\"\"\n",
        "    \n",
        "    def __init__(self, emb_w=None, use_batchnorm=False, n_conv=1, emb_size=64, out_size=64, n_tokens=len(tokens), n_cat_features=len(categorical_vectorizer.vocabulary_)):\n",
        "        super(self.__class__, self).__init__()\n",
        "        \n",
        "        self.title_encoder = TitleEncoder(emb_w=emb_w, use_batchnorm=use_batchnorm, emb_size=emb_size, out_size=out_size)\n",
        "        self.desc_encoder = DescriptionEncoder(emb_w=emb_w, use_batchnorm=use_batchnorm, emb_size=emb_size, out_size=out_size)\n",
        "        \n",
        "        # define layers for categorical features. A few dense layers would do.\n",
        "        self.cat_encoder = nn.Sequential()\n",
        "        \n",
        "        self.cat_encoder.add_module('dense1', nn.Linear(n_cat_features, 256))\n",
        "        maybe_batchnorm(self.cat_encoder, use_batchnorm, 'bn1', nn.BatchNorm1d(256))\n",
        "        self.cat_encoder.add_module('relu1', nn.ReLU())\n",
        "        \n",
        "        self.cat_encoder.add_module('dense2', nn.Linear(256, 128))\n",
        "        maybe_batchnorm(self.cat_encoder, use_batchnorm, 'bn2', nn.BatchNorm1d(128))\n",
        "        self.cat_encoder.add_module('relu2', nn.ReLU())\n",
        "        \n",
        "        self.cat_encoder.add_module('dense3', nn.Linear(128, out_size))\n",
        "        \n",
        "        # define \"output\" layers that process depend the three encoded vectors into answer\n",
        "        self.res_layer = nn.Sequential()\n",
        "        \n",
        "        self.res_layer.add_module('dense1', nn.Linear(out_size*3, 256))\n",
        "        maybe_batchnorm(self.res_layer, use_batchnorm, 'bn1', nn.BatchNorm1d(256))\n",
        "        self.res_layer.add_module('relu1', nn.ReLU())\n",
        "        \n",
        "        self.res_layer.add_module('dense2', nn.Linear(256, 64))\n",
        "        maybe_batchnorm(self.res_layer, use_batchnorm, 'bn2', nn.BatchNorm1d(64))\n",
        "        self.res_layer.add_module('relu2', nn.ReLU())\n",
        "        \n",
        "        self.res_layer.add_module('dense3', nn.Linear(64, 1))\n",
        "        \n",
        "        \n",
        "    def forward(self, title_ix, desc_ix, cat_features):\n",
        "        \"\"\"\n",
        "        :param title_ix: int32 Variable [batch, title_len], job titles encoded by as_matrix\n",
        "        :param desc_ix:  int32 Variable [batch, desc_len] , job descriptions encoded by as_matrix\n",
        "        :param cat_features: float32 Variable [batch, n_cat_features]\n",
        "        :returns: float32 Variable 1d [batch], predicted log1p-salary\n",
        "        \"\"\"\n",
        "        \n",
        "        # process each data source with it's respective encoder\n",
        "        title_h = self.title_encoder(title_ix)\n",
        "        desc_h = self.desc_encoder(desc_ix)\n",
        "        \n",
        "        # apply categorical encoder\n",
        "        cat_h = self.cat_encoder(cat_features)\n",
        "        \n",
        "        # concatenate all vectors together...\n",
        "        joint_h = torch.cat([title_h, desc_h, cat_h], dim=1)\n",
        "        \n",
        "        # ... and stack a few more layers at the top\n",
        "        result = self.res_layer(joint_h)\n",
        "        \n",
        "        # Note 1: do not forget to select first columns, [:, 0], to get to 1d outputs\n",
        "        # Note 2: please do not use output nonlinearities.\n",
        "        \n",
        "        return result[:, 0]"
      ],
      "execution_count": 0,
      "outputs": []
    },
    {
      "metadata": {
        "id": "ZkaQnOAsfQsO",
        "colab_type": "code",
        "colab": {}
      },
      "cell_type": "code",
      "source": [
        "def maybe_cuda(tensor):\n",
        "    return tensor.cuda() if use_cuda else tensor"
      ],
      "execution_count": 0,
      "outputs": []
    },
    {
      "metadata": {
        "colab_type": "code",
        "id": "Oy-gN6p7KMzX",
        "colab": {}
      },
      "cell_type": "code",
      "source": [
        "model = maybe_cuda(FullNetwork())\n",
        "opt = torch.optim.Adam(model.parameters(), lr=1e-3)"
      ],
      "execution_count": 0,
      "outputs": []
    },
    {
      "metadata": {
        "id": "DlVesPBqXKQx",
        "colab_type": "code",
        "colab": {}
      },
      "cell_type": "code",
      "source": [
        "# test it on one batch\n",
        "\n",
        "batch = generate_batch(data_train, 32)\n",
        "\n",
        "title_ix = Variable(maybe_cuda(torch.LongTensor(batch[\"Title\"])))\n",
        "desc_ix = Variable(maybe_cuda(torch.LongTensor(batch[\"FullDescription\"])))\n",
        "cat_features = Variable(maybe_cuda(torch.FloatTensor(batch[\"Categorical\"])))\n",
        "reference = Variable(maybe_cuda(torch.FloatTensor(batch[target_column])))\n",
        "\n",
        "prediction = model(title_ix, desc_ix, cat_features)\n",
        "\n",
        "assert len(prediction.shape) == 1 and prediction.shape[0] == title_ix.shape[0]"
      ],
      "execution_count": 0,
      "outputs": []
    },
    {
      "metadata": {
        "id": "Tcq4wVwbXKQ1",
        "colab_type": "code",
        "colab": {}
      },
      "cell_type": "code",
      "source": [
        "def compute_loss(reference, prediction):\n",
        "    \"\"\"\n",
        "    Computes objective for minimization.\n",
        "    By deafult we minimize MSE, but you are encouraged to try mix up MSE, MAE, huber loss, etc.\n",
        "    \"\"\"\n",
        "    return torch.mean((prediction - reference) ** 2)\n",
        "\n",
        "def compute_mae(reference, prediction):\n",
        "    \"\"\" Compute MAE on actual salary, assuming your model outputs log1p(salary)\"\"\"\n",
        "    return torch.abs(torch.exp(reference - 1) - torch.exp(prediction - 1)).mean()"
      ],
      "execution_count": 0,
      "outputs": []
    },
    {
      "metadata": {
        "id": "bdi0z3IjXKQ7",
        "colab_type": "code",
        "colab": {}
      },
      "cell_type": "code",
      "source": [
        "loss = compute_loss(reference, prediction)\n",
        "dummy_grads = torch.autograd.grad(loss, model.parameters(), retain_graph=True)\n",
        "for grad in dummy_grads:\n",
        "    assert grad is not None and not (grad == 0).all(), \"Some model parameters received zero grads. \" \\\n",
        "                                                       \"Double-check that your model uses all it's layers.\""
      ],
      "execution_count": 0,
      "outputs": []
    },
    {
      "metadata": {
        "id": "zcb-9FPUXKRQ",
        "colab_type": "text"
      },
      "cell_type": "markdown",
      "source": [
        "### Let's train it!"
      ]
    },
    {
      "metadata": {
        "id": "FvlIvsyFD8l_",
        "colab_type": "code",
        "colab": {}
      },
      "cell_type": "code",
      "source": [
        "def after_each_epoch_fn(*args, **kwargs):\n",
        "    epoch_i = kwargs['epoch_i']\n",
        "    n_epoch = kwargs['n_epoch']\n",
        "    start = kwargs['epoch_start']\n",
        "    end = kwargs['epoch_end']\n",
        "    mae = kwargs['epoch_mae']\n",
        "    print(f'\\rEpoch #{epoch_i + 1}/{n_epoch} epoch_mae: {mae:.4f}, epoch_time: {end - start:.2f} s', end='')\n",
        "\n",
        "def after_each_batch_fn(*args, **kwargs):\n",
        "    return\n",
        "    epoch_i = kwargs['epoch_i']\n",
        "    n_epoch = kwargs['n_epoch']\n",
        "    print(f'\\rEpoch #{epoch_i + 1}/{n_epoch} ({get_batch_string(*args, **kwargs)})', end='')\n",
        "\n",
        "def get_batch_string(*args, **kwargs):\n",
        "    batch_i = kwargs['batch_i']\n",
        "    n_batch = kwargs['n_batch']\n",
        "    start = kwargs['batch_start']\n",
        "    end = kwargs['batch_end']\n",
        "    loss = kwargs['batch_loss']\n",
        "    return f'batch #{batch_i + 1}/{n_batch}, batch_loss: {loss:.5f}, batch_time: {end - start:.3f} s'"
      ],
      "execution_count": 0,
      "outputs": []
    },
    {
      "metadata": {
        "id": "rCUpWPb6XKRS",
        "colab_type": "code",
        "colab": {}
      },
      "cell_type": "code",
      "source": [
        "def iterate_minibatches(data, batch_size=32, max_len=None,\n",
        "                        max_batches=None, shuffle=True, verbose=True):\n",
        "    indices = np.arange(len(data))\n",
        "    if shuffle:\n",
        "        indices = np.random.permutation(indices)\n",
        "    if max_batches is not None:\n",
        "        indices = indices[: batch_size * max_batches]\n",
        "        \n",
        "    for start in range(0, len(indices), batch_size):\n",
        "        yield generate_batch(data.iloc[indices[start : start + batch_size]], max_len=max_len)"
      ],
      "execution_count": 0,
      "outputs": []
    },
    {
      "metadata": {
        "id": "ytTxC5SbODtX",
        "colab_type": "text"
      },
      "cell_type": "markdown",
      "source": [
        "По традиции прикрутил сохранение лучшей модели и early stopping, однако время обучения бейзлайна это не сократило и он учился 95 из 100 эпох с постепенным уменьшением MAE"
      ]
    },
    {
      "metadata": {
        "id": "_rNUnxZDXKRY",
        "colab_type": "code",
        "colab": {}
      },
      "cell_type": "code",
      "source": [
        "import time\n",
        "\n",
        "def train(name, model, opt, num_epochs=100, max_len=100, batch_size=32, batches_per_epoch=100, save_best=True, early_stop_after=10):\n",
        "    val_mae_means = []    \n",
        "    callback_params = {'n_epoch': num_epochs, 'n_batch': batches_per_epoch}\n",
        "    for epoch_i in range(num_epochs):\n",
        "        callback_params['epoch_i'] = epoch_i\n",
        "        callback_params['epoch_start'] = time.time()\n",
        "\n",
        "        train_loss = []\n",
        "        model.train(True)\n",
        "\n",
        "        for batch_i, batch in enumerate(iterate_minibatches(data_train, max_batches=batches_per_epoch)):\n",
        "            callback_params['batch_i'] = batch_i\n",
        "            callback_params['batch_start'] = time.time()\n",
        "\n",
        "            title_ix = Variable(maybe_cuda(torch.LongTensor(batch[\"Title\"])))\n",
        "            desc_ix = Variable(maybe_cuda(torch.LongTensor(batch[\"FullDescription\"])))\n",
        "            cat_features = Variable(maybe_cuda(torch.FloatTensor(batch[\"Categorical\"])))\n",
        "            reference = Variable(maybe_cuda(torch.FloatTensor(batch[target_column])))\n",
        "\n",
        "            prediction = model(title_ix, desc_ix, cat_features)\n",
        "\n",
        "            loss = compute_loss(reference, prediction)\n",
        "            loss.backward()\n",
        "            opt.step()\n",
        "            opt.zero_grad()\n",
        "\n",
        "            train_loss.append(loss[0].data.cpu().numpy())\n",
        "\n",
        "            callback_params['batch_end'] = time.time()\n",
        "            callback_params['batch_loss'] = train_loss[-1]\n",
        "\n",
        "            after_each_batch_fn(**callback_params)\n",
        "\n",
        "        val_mae = []\n",
        "        model.train(False)\n",
        "\n",
        "        for batch in iterate_minibatches(data_val, shuffle=False):\n",
        "            title_ix = Variable(maybe_cuda(torch.LongTensor(batch[\"Title\"])))\n",
        "            desc_ix = Variable(maybe_cuda(torch.LongTensor(batch[\"FullDescription\"])))\n",
        "            cat_features = Variable(maybe_cuda(torch.FloatTensor(batch[\"Categorical\"])))\n",
        "            reference = Variable(maybe_cuda(torch.FloatTensor(batch[target_column])))\n",
        "\n",
        "            prediction = model(title_ix, desc_ix, cat_features)\n",
        "\n",
        "            val_mae.append(compute_mae(reference, prediction).data.cpu().numpy())\n",
        "\n",
        "        val_mae_means.append(np.mean(val_mae))\n",
        "\n",
        "        local_max = np.min(val_mae_means)\n",
        "\n",
        "        if save_best and val_mae_means[-1] == local_max:\n",
        "            torch.save(model.state_dict(), name)\n",
        "\n",
        "        callback_params['epoch_end'] = time.time()\n",
        "        callback_params['epoch_mae'] = val_mae_means[-1]\n",
        "\n",
        "        after_each_epoch_fn(**callback_params)\n",
        "\n",
        "        if len(val_mae_means) > early_stop_after and local_max not in val_mae_means[-early_stop_after:]:\n",
        "            print(f'\\nEarly stopped after epoch #{epoch_i + 1}', end='')\n",
        "            break\n",
        "    print(f'\\nBest validation MAE: {np.min(val_mae_means):.4f}' + (f', best model saved to \"{name}\"' if save_best else ''))\n",
        "\n",
        "    plt.title(name)\n",
        "    plt.xlabel('n_epoch')\n",
        "    plt.ylabel('MAE')\n",
        "    plt.plot(list(range(1, len(val_mae_means) + 1)), val_mae_means)\n",
        "    plt.show()"
      ],
      "execution_count": 0,
      "outputs": []
    },
    {
      "metadata": {
        "id": "knns3PwdKBJL",
        "colab_type": "code",
        "outputId": "1625dc8a-79d0-41d5-e895-cecc1286b9bd",
        "colab": {
          "base_uri": "https://localhost:8080/",
          "height": 382
        }
      },
      "cell_type": "code",
      "source": [
        "model = maybe_cuda(FullNetwork())\n",
        "opt = torch.optim.Adam(model.parameters(), lr=1e-3)\n",
        "\n",
        "train('baseline', model, opt)"
      ],
      "execution_count": 0,
      "outputs": [
        {
          "output_type": "stream",
          "text": [
            "/usr/local/lib/python3.6/dist-packages/ipykernel_launcher.py:29: UserWarning: invalid index of a 0-dim tensor. This will be an error in PyTorch 0.5. Use tensor.item() to convert a 0-dim tensor to a Python number\n"
          ],
          "name": "stderr"
        },
        {
          "output_type": "stream",
          "text": [
            "Epoch #99/100 epoch_mae: 2909.5713, epoch_time: 11.76 s\n",
            "Early stopped after epoch #99\n",
            "Best validation MAE: 2556.9465, best model saved to \"baseline\"\n"
          ],
          "name": "stdout"
        },
        {
          "output_type": "display_data",
          "data": {
            "image/png": "[encoded data removed]",
            "text/plain": [
              "<matplotlib.figure.Figure at 0x7f933cffb748>"
            ]
          },
          "metadata": {
            "tags": []
          }
        }
      ]
    },
    {
      "metadata": {
        "id": "NcCCtNZuXKRf",
        "colab_type": "code",
        "colab": {}
      },
      "cell_type": "code",
      "source": [
        "def evaluate(model):\n",
        "    print(\"Final eval:\")\n",
        "    val_loss = val_mae = val_batches = 0\n",
        "\n",
        "    for batch in iterate_minibatches(data_val):\n",
        "        title_ix = Variable(maybe_cuda(torch.LongTensor(batch[\"Title\"])))\n",
        "        desc_ix = Variable(maybe_cuda(torch.LongTensor(batch[\"FullDescription\"])))\n",
        "        cat_features = Variable(maybe_cuda(torch.FloatTensor(batch[\"Categorical\"])))\n",
        "        reference = Variable(maybe_cuda(torch.FloatTensor(batch[target_column])))\n",
        "\n",
        "        prediction = model(title_ix, desc_ix, cat_features)\n",
        "        loss = compute_loss(reference, prediction)\n",
        "\n",
        "        val_loss += loss.data.cpu().numpy()\n",
        "        val_mae += compute_mae(reference, prediction).data.cpu().numpy()\n",
        "        val_batches += 1\n",
        "\n",
        "    print(\"\\tLoss:\\t%.5f\" % (val_loss / val_batches))\n",
        "    print(\"\\tMAE:\\t%.5f\" % (val_mae / val_batches))"
      ],
      "execution_count": 0,
      "outputs": []
    },
    {
      "metadata": {
        "id": "Vt8yE3MUUhAJ",
        "colab_type": "text"
      },
      "cell_type": "markdown",
      "source": [
        "Посмотрим, какую модель мы бы получили без сохранения лучшего состояния"
      ]
    },
    {
      "metadata": {
        "id": "D5rfB446UQm7",
        "colab_type": "code",
        "outputId": "0a754d8e-6c05-4909-c021-e2725c611e43",
        "colab": {
          "base_uri": "https://localhost:8080/",
          "height": 68
        }
      },
      "cell_type": "code",
      "source": [
        "evaluate(model)"
      ],
      "execution_count": 0,
      "outputs": [
        {
          "output_type": "stream",
          "text": [
            "Final eval:\n",
            "\tLoss:\t0.08557\n",
            "\tMAE:\t2909.46599\n"
          ],
          "name": "stdout"
        }
      ]
    },
    {
      "metadata": {
        "id": "6EkW-0PLWvaE",
        "colab_type": "text"
      },
      "cell_type": "markdown",
      "source": [
        "Загрузим лучшее состояние"
      ]
    },
    {
      "metadata": {
        "id": "Vc06NvMRKsqb",
        "colab_type": "code",
        "outputId": "237969af-1059-43c5-d7e2-99a8158eaa1d",
        "colab": {
          "base_uri": "https://localhost:8080/",
          "height": 68
        }
      },
      "cell_type": "code",
      "source": [
        "model.load_state_dict(torch.load('baseline'))\n",
        "evaluate(model)"
      ],
      "execution_count": 0,
      "outputs": [
        {
          "output_type": "stream",
          "text": [
            "Final eval:\n",
            "\tLoss:\t0.07311\n",
            "\tMAE:\t2556.81319\n"
          ],
          "name": "stdout"
        }
      ]
    },
    {
      "metadata": {
        "id": "N-ydP8t0XKRo",
        "colab_type": "text"
      },
      "cell_type": "markdown",
      "source": [
        "### Task 3.2: Actually make it work\n",
        "\n",
        "Your main task is to use some of the tricks you've learned on the network and analyze if you can improve __validation MAE__.\n",
        "\n",
        "Try __at least 3 options__ from the list below for a passing grade. If you're into \n",
        "\n",
        "#### A) CNN architecture\n",
        "\n",
        "All the tricks you know about dense and convolutional neural networks apply here as well.\n",
        "* Dropout. Nuff said.\n",
        "* Batch Norm. This time it's `nn.BatchNorm1d`\n",
        "* Parallel convolution layers. The idea is that you apply several nn.Conv1d to the same embeddings and concatenate output channels.\n",
        "* More layers, more neurons, ya know...\n",
        "\n",
        "\n",
        "#### B) Play with pooling\n",
        "\n",
        "There's more than one way to do max pooling:\n",
        "* Max over time - our `GlobalMaxPooling`\n",
        "* Average over time (excluding PAD)\n",
        "* Softmax-pooling:\n",
        "$$ out_{i, t} = \\sum_t {h_{i,t} \\cdot {{e ^ {h_{i, t}}} \\over \\sum_\\tau e ^ {h_{j, \\tau}} } }$$\n",
        "\n",
        "* Attentive pooling\n",
        "$$ out_{i, t} = \\sum_t {h_{i,t} \\cdot Attn(h_t)}$$\n",
        "\n",
        ", where $$ Attn(h_t) = {{e ^ {NN_{attn}(h_t)}} \\over \\sum_\\tau e ^ {NN_{attn}(h_\\tau)}}  $$\n",
        "and $NN_{attn}$ is a small neural network\n",
        "\n",
        "\n",
        "The optimal score is usually achieved by concatenating several different poolings, including several attentive pooling with different $NN_{attn}$\n",
        "\n",
        "#### C) Fun with embeddings\n",
        "\n",
        "It's not always a good idea to train embeddings from scratch. Here's a few tricks:\n",
        "\n",
        "* Use a pre-trained word2vec from [here](http://ahogrammer.com/2017/01/20/the-list-of-pretrained-word-embeddings/) or [here](http://mccormickml.com/2016/04/12/googles-pretrained-word2vec-model-in-python/).\n",
        "* Start with pre-trained embeddings, then fine-tune them with gradient descent\n",
        "* Use the same embedding matrix in title and desc vectorizer\n",
        "\n",
        "#### D) Going recurrent\n",
        "\n",
        "We've already learned that recurrent networks can do cool stuff in sequence modelling. Turns out, they're not useless for classification as well. With some tricks of course..\n",
        "\n",
        "* Like convolutional layers, LSTM should be pooled into a fixed-size vector with some of the poolings.\n",
        "  * Please bear in mind that while convolution uses [batch, units, time] dim order, \n",
        "    recurrent units are built for [batch, time, unit]. You may need to `torch.transpose`.\n",
        "\n",
        "* Since you know all the text in advance, use bidirectional RNN\n",
        "  * Run one LSTM from left to right\n",
        "  * Run another in parallel from right to left \n",
        "  * Concatenate their output sequences along unit axis (dim=-1)\n",
        "\n",
        "* It might be good idea to mix convolutions and recurrent layers differently for title and description\n",
        "\n",
        "\n",
        "#### E) Optimizing seriously\n",
        "\n",
        "* You don't necessarily need 100 epochs. Use early stopping. If you've never done this before, take a look at [keras](https://github.com/keras-team/keras/blob/master/keras/callbacks.py#L461) for inspiration.\n",
        "  * In short, train until you notice that validation\n",
        "  * Maintain the best-on-validation snapshot via `model.state_dict`\n",
        "  * Plotting learning curves is usually a good idea"
      ]
    },
    {
      "metadata": {
        "id": "wAv9THxI35tq",
        "colab_type": "code",
        "outputId": "77677a25-df4b-4904-ce35-bfd949696ca5",
        "colab": {
          "base_uri": "https://localhost:8080/",
          "height": 348
        }
      },
      "cell_type": "code",
      "source": [
        "model = maybe_cuda(FullNetwork(use_batchnorm=True))\n",
        "opt = torch.optim.Adam(model.parameters(), lr=1e-3)\n",
        "\n",
        "train('model_bn', model, opt, early_stop_after=100)"
      ],
      "execution_count": 36,
      "outputs": [
        {
          "output_type": "stream",
          "text": [
            "/usr/local/lib/python3.6/dist-packages/ipykernel_launcher.py:29: UserWarning: invalid index of a 0-dim tensor. This will be an error in PyTorch 0.5. Use tensor.item() to convert a 0-dim tensor to a Python number\n"
          ],
          "name": "stderr"
        },
        {
          "output_type": "stream",
          "text": [
            "Epoch #100/100 epoch_mae: 2514.4775, epoch_time: 12.52 s\n",
            "Best validation MAE: 2514.4775, best model saved to \"model_bn\"\n"
          ],
          "name": "stdout"
        },
        {
          "output_type": "display_data",
          "data": {
            "image/png": "[encoded data removed]",
            "text/plain": [
              "<matplotlib.figure.Figure at 0x7f268556f6a0>"
            ]
          },
          "metadata": {
            "tags": []
          }
        }
      ]
    },
    {
      "metadata": {
        "id": "M298fcAB4cNb",
        "colab_type": "code",
        "outputId": "b5914230-217e-4890-9bef-9c2c6d686d7b",
        "colab": {
          "base_uri": "https://localhost:8080/",
          "height": 68
        }
      },
      "cell_type": "code",
      "source": [
        "model.load_state_dict(torch.load('model_bn'))\n",
        "evaluate(model)"
      ],
      "execution_count": 37,
      "outputs": [
        {
          "output_type": "stream",
          "text": [
            "Final eval:\n",
            "\tLoss:\t0.07053\n",
            "\tMAE:\t2514.25064\n"
          ],
          "name": "stdout"
        }
      ]
    },
    {
      "metadata": {
        "id": "Vdw9-MSx4dKq",
        "colab_type": "code",
        "outputId": "08dcc8ad-f411-488b-ea67-503b50d51c64",
        "colab": {
          "base_uri": "https://localhost:8080/",
          "height": 348
        }
      },
      "cell_type": "code",
      "source": [
        "model = maybe_cuda(FullNetwork(out_size=128))\n",
        "opt = torch.optim.Adam(model.parameters(), lr=1e-3)\n",
        "\n",
        "train('model_more_neurons', model, opt, early_stop_after=100)"
      ],
      "execution_count": 38,
      "outputs": [
        {
          "output_type": "stream",
          "text": [
            "/usr/local/lib/python3.6/dist-packages/ipykernel_launcher.py:29: UserWarning: invalid index of a 0-dim tensor. This will be an error in PyTorch 0.5. Use tensor.item() to convert a 0-dim tensor to a Python number\n"
          ],
          "name": "stderr"
        },
        {
          "output_type": "stream",
          "text": [
            "Epoch #100/100 epoch_mae: 3284.2405, epoch_time: 12.00 s\n",
            "Best validation MAE: 2466.4321, best model saved to \"model_more_neurons\"\n"
          ],
          "name": "stdout"
        },
        {
          "output_type": "display_data",
          "data": {
            "image/png": "[encoded data removed]",
            "text/plain": [
              "<matplotlib.figure.Figure at 0x7f26855edb00>"
            ]
          },
          "metadata": {
            "tags": []
          }
        }
      ]
    },
    {
      "metadata": {
        "id": "mq4VfarD4j1e",
        "colab_type": "code",
        "outputId": "9fdbe41d-c9f4-481d-c9ba-553b6655a13a",
        "colab": {
          "base_uri": "https://localhost:8080/",
          "height": 68
        }
      },
      "cell_type": "code",
      "source": [
        "model.load_state_dict(torch.load('model_more_neurons'))\n",
        "evaluate(model)"
      ],
      "execution_count": 39,
      "outputs": [
        {
          "output_type": "stream",
          "text": [
            "Final eval:\n",
            "\tLoss:\t0.06834\n",
            "\tMAE:\t2465.82688\n"
          ],
          "name": "stdout"
        }
      ]
    },
    {
      "metadata": {
        "id": "tMx0Ul7K43hI",
        "colab_type": "code",
        "outputId": "fdf96c9f-0c72-49e0-c25d-7609ca6e1990",
        "colab": {
          "base_uri": "https://localhost:8080/",
          "height": 348
        }
      },
      "cell_type": "code",
      "source": [
        "model = maybe_cuda(FullNetwork(n_conv=3))\n",
        "opt = torch.optim.Adam(model.parameters(), lr=1e-3)\n",
        "\n",
        "train('model_more_layers', model, opt, early_stop_after=100)"
      ],
      "execution_count": 40,
      "outputs": [
        {
          "output_type": "stream",
          "text": [
            "/usr/local/lib/python3.6/dist-packages/ipykernel_launcher.py:29: UserWarning: invalid index of a 0-dim tensor. This will be an error in PyTorch 0.5. Use tensor.item() to convert a 0-dim tensor to a Python number\n"
          ],
          "name": "stderr"
        },
        {
          "output_type": "stream",
          "text": [
            "Epoch #100/100 epoch_mae: 2849.0901, epoch_time: 11.38 s\n",
            "Best validation MAE: 2514.4583, best model saved to \"model_more_layers\"\n"
          ],
          "name": "stdout"
        },
        {
          "output_type": "display_data",
          "data": {
            "image/png": "[encoded data removed]",
            "text/plain": [
              "<matplotlib.figure.Figure at 0x7f26856a2cf8>"
            ]
          },
          "metadata": {
            "tags": []
          }
        }
      ]
    },
    {
      "metadata": {
        "id": "7Jj2afAb47jC",
        "colab_type": "code",
        "outputId": "7158f4ef-a1a3-4682-bfcf-f3442df19628",
        "colab": {
          "base_uri": "https://localhost:8080/",
          "height": 68
        }
      },
      "cell_type": "code",
      "source": [
        "model.load_state_dict(torch.load('model_more_layers'))\n",
        "evaluate(model)"
      ],
      "execution_count": 41,
      "outputs": [
        {
          "output_type": "stream",
          "text": [
            "Final eval:\n",
            "\tLoss:\t0.07057\n",
            "\tMAE:\t2513.87764\n"
          ],
          "name": "stdout"
        }
      ]
    },
    {
      "metadata": {
        "id": "ZMsUbQttAm9u",
        "colab_type": "code",
        "outputId": "f4c25005-9246-4e51-bd03-476c076ad566",
        "colab": {
          "base_uri": "https://localhost:8080/",
          "height": 734
        }
      },
      "cell_type": "code",
      "source": [
        "!pip install gensim"
      ],
      "execution_count": 42,
      "outputs": [
        {
          "output_type": "stream",
          "text": [
            "Collecting gensim\n",
            "\u001b[?25l  Downloading https://files.pythonhosted.org/packages/27/a4/d10c0acc8528d838cda5eede0ee9c784caa598dbf40bd0911ff8d067a7eb/gensim-3.6.0-cp36-cp36m-manylinux1_x86_64.whl (23.6MB)\n",
            "\u001b[K    100% |████████████████████████████████| 23.6MB 1.8MB/s \n",
            "\u001b[?25hRequirement already satisfied: numpy>=1.11.3 in /usr/local/lib/python3.6/dist-packages (from gensim) (1.14.6)\n",
            "Requirement already satisfied: scipy>=0.18.1 in /usr/local/lib/python3.6/dist-packages (from gensim) (1.1.0)\n",
            "Requirement already satisfied: six>=1.5.0 in /usr/local/lib/python3.6/dist-packages (from gensim) (1.11.0)\n",
            "Collecting smart-open>=1.2.1 (from gensim)\n",
            "  Downloading https://files.pythonhosted.org/packages/4b/1f/6f27e3682124de63ac97a0a5876da6186de6c19410feab66c1543afab055/smart_open-1.7.1.tar.gz\n",
            "Collecting boto>=2.32 (from smart-open>=1.2.1->gensim)\n",
            "\u001b[?25l  Downloading https://files.pythonhosted.org/packages/23/10/c0b78c27298029e4454a472a1919bde20cb182dab1662cec7f2ca1dcc523/boto-2.49.0-py2.py3-none-any.whl (1.4MB)\n",
            "\u001b[K    100% |████████████████████████████████| 1.4MB 15.4MB/s \n",
            "\u001b[?25hCollecting bz2file (from smart-open>=1.2.1->gensim)\n",
            "  Downloading https://files.pythonhosted.org/packages/61/39/122222b5e85cd41c391b68a99ee296584b2a2d1d233e7ee32b4532384f2d/bz2file-0.98.tar.gz\n",
            "Requirement already satisfied: requests in /usr/local/lib/python3.6/dist-packages (from smart-open>=1.2.1->gensim) (2.18.4)\n",
            "Collecting boto3 (from smart-open>=1.2.1->gensim)\n",
            "\u001b[?25l  Downloading https://files.pythonhosted.org/packages/a0/d8/8b000ffeba218d47cd81fbd0bd0b2790742f81ffe116964a298be785a8a4/boto3-1.9.50-py2.py3-none-any.whl (128kB)\n",
            "\u001b[K    100% |████████████████████████████████| 133kB 25.7MB/s \n",
            "\u001b[?25hRequirement already satisfied: urllib3<1.23,>=1.21.1 in /usr/local/lib/python3.6/dist-packages (from requests->smart-open>=1.2.1->gensim) (1.22)\n",
            "Requirement already satisfied: certifi>=2017.4.17 in /usr/local/lib/python3.6/dist-packages (from requests->smart-open>=1.2.1->gensim) (2018.10.15)\n",
            "Requirement already satisfied: chardet<3.1.0,>=3.0.2 in /usr/local/lib/python3.6/dist-packages (from requests->smart-open>=1.2.1->gensim) (3.0.4)\n",
            "Requirement already satisfied: idna<2.7,>=2.5 in /usr/local/lib/python3.6/dist-packages (from requests->smart-open>=1.2.1->gensim) (2.6)\n",
            "Collecting s3transfer<0.2.0,>=0.1.10 (from boto3->smart-open>=1.2.1->gensim)\n",
            "\u001b[?25l  Downloading https://files.pythonhosted.org/packages/d7/14/2a0004d487464d120c9fb85313a75cd3d71a7506955be458eebfe19a6b1d/s3transfer-0.1.13-py2.py3-none-any.whl (59kB)\n",
            "\u001b[K    100% |████████████████████████████████| 61kB 23.1MB/s \n",
            "\u001b[?25hCollecting jmespath<1.0.0,>=0.7.1 (from boto3->smart-open>=1.2.1->gensim)\n",
            "  Downloading https://files.pythonhosted.org/packages/b7/31/05c8d001f7f87f0f07289a5fc0fc3832e9a57f2dbd4d3b0fee70e0d51365/jmespath-0.9.3-py2.py3-none-any.whl\n",
            "Collecting botocore<1.13.0,>=1.12.50 (from boto3->smart-open>=1.2.1->gensim)\n",
            "\u001b[?25l  Downloading https://files.pythonhosted.org/packages/82/c1/a26012b4dbca2e2ae06d7b24dc6b4378c0b0544d25f3e3f216612db37033/botocore-1.12.50-py2.py3-none-any.whl (4.9MB)\n",
            "\u001b[K    100% |████████████████████████████████| 4.9MB 6.5MB/s \n",
            "\u001b[?25hRequirement already satisfied: python-dateutil<3.0.0,>=2.1; python_version >= \"2.7\" in /usr/local/lib/python3.6/dist-packages (from botocore<1.13.0,>=1.12.50->boto3->smart-open>=1.2.1->gensim) (2.5.3)\n",
            "Collecting docutils>=0.10 (from botocore<1.13.0,>=1.12.50->boto3->smart-open>=1.2.1->gensim)\n",
            "\u001b[?25l  Downloading https://files.pythonhosted.org/packages/36/fa/08e9e6e0e3cbd1d362c3bbee8d01d0aedb2155c4ac112b19ef3cae8eed8d/docutils-0.14-py3-none-any.whl (543kB)\n",
            "\u001b[K    100% |████████████████████████████████| 552kB 24.5MB/s \n",
            "\u001b[?25hBuilding wheels for collected packages: smart-open, bz2file\n",
            "  Running setup.py bdist_wheel for smart-open ... \u001b[?25l-\b \b\\\b \bdone\n",
            "\u001b[?25h  Stored in directory: /root/.cache/pip/wheels/23/00/44/e5b939f7a80c04e32297dbd6d96fa3065af89ecf57e2b5f89f\n",
            "  Running setup.py bdist_wheel for bz2file ... \u001b[?25l-\b \bdone\n",
            "\u001b[?25h  Stored in directory: /root/.cache/pip/wheels/81/75/d6/e1317bf09bf1af5a30befc2a007869fa6e1f516b8f7c591cb9\n",
            "Successfully built smart-open bz2file\n",
            "Installing collected packages: boto, bz2file, jmespath, docutils, botocore, s3transfer, boto3, smart-open, gensim\n",
            "Successfully installed boto-2.49.0 boto3-1.9.50 botocore-1.12.50 bz2file-0.98 docutils-0.14 gensim-3.6.0 jmespath-0.9.3 s3transfer-0.1.13 smart-open-1.7.1\n"
          ],
          "name": "stdout"
        }
      ]
    },
    {
      "metadata": {
        "id": "BzElQtitApbI",
        "colab_type": "code",
        "colab": {
          "base_uri": "https://localhost:8080/",
          "height": 34
        },
        "outputId": "d98cca91-e7c3-430d-e0f4-4e6915593bf4"
      },
      "cell_type": "code",
      "source": [
        "import gensim.downloader \n",
        "embeddings = gensim.downloader.load(\"fasttext-wiki-news-subwords-300\")"
      ],
      "execution_count": 43,
      "outputs": [
        {
          "output_type": "stream",
          "text": [
            "[==================================================] 100.0% 958.5/958.4MB downloaded\n"
          ],
          "name": "stdout"
        }
      ]
    },
    {
      "metadata": {
        "id": "thnP5yYQArP3",
        "colab_type": "code",
        "outputId": "6bcd7c4c-bd20-48d9-b84a-dae3ae7ef284",
        "colab": {
          "base_uri": "https://localhost:8080/",
          "height": 105
        }
      },
      "cell_type": "code",
      "source": [
        "indices = {}\n",
        "mat = np.zeros((len(tokens), embeddings.wv.vectors.shape[1]))\n",
        "for e in embeddings.vocab:\n",
        "    if e in token_to_id:\n",
        "        mat[token_to_id[e], : ] = embeddings[e]\n",
        "\n",
        "print(len(tokens))\n",
        "print(mat.shape)"
      ],
      "execution_count": 44,
      "outputs": [
        {
          "output_type": "stream",
          "text": [
            "/usr/local/lib/python3.6/dist-packages/ipykernel_launcher.py:2: DeprecationWarning: Call to deprecated `wv` (Attribute will be removed in 4.0.0, use self instead).\n",
            "  \n"
          ],
          "name": "stderr"
        },
        {
          "output_type": "stream",
          "text": [
            "34158\n",
            "(34158, 300)\n"
          ],
          "name": "stdout"
        }
      ]
    },
    {
      "metadata": {
        "id": "cSukp76XAw_n",
        "colab_type": "code",
        "outputId": "8c2ce0aa-881f-4f23-f84d-802472737817",
        "colab": {
          "base_uri": "https://localhost:8080/",
          "height": 382
        }
      },
      "cell_type": "code",
      "source": [
        "model = maybe_cuda(FullNetwork(emb_w=mat, emb_size=embeddings.wv.vectors.shape[1]))\n",
        "opt = torch.optim.Adam(model.parameters(), lr=1e-3)\n",
        "\n",
        "train('model_pretrained_emb', model, opt, early_stop_after=100)"
      ],
      "execution_count": 45,
      "outputs": [
        {
          "output_type": "stream",
          "text": [
            "/usr/local/lib/python3.6/dist-packages/ipykernel_launcher.py:1: DeprecationWarning: Call to deprecated `wv` (Attribute will be removed in 4.0.0, use self instead).\n",
            "  \"\"\"Entry point for launching an IPython kernel.\n",
            "/usr/local/lib/python3.6/dist-packages/ipykernel_launcher.py:29: UserWarning: invalid index of a 0-dim tensor. This will be an error in PyTorch 0.5. Use tensor.item() to convert a 0-dim tensor to a Python number\n"
          ],
          "name": "stderr"
        },
        {
          "output_type": "stream",
          "text": [
            "Epoch #100/100 epoch_mae: 2357.0181, epoch_time: 14.64 s\n",
            "Best validation MAE: 2339.2788, best model saved to \"model_pretrained_emb\"\n"
          ],
          "name": "stdout"
        },
        {
          "output_type": "display_data",
          "data": {
            "image/png": "[encoded data removed]",
            "text/plain": [
              "<matplotlib.figure.Figure at 0x7f262d9c0048>"
            ]
          },
          "metadata": {
            "tags": []
          }
        }
      ]
    },
    {
      "metadata": {
        "id": "H8A6qMIuA11J",
        "colab_type": "code",
        "outputId": "aed10a0a-3d4e-4f6b-c8a7-769ff9a45b45",
        "colab": {
          "base_uri": "https://localhost:8080/",
          "height": 68
        }
      },
      "cell_type": "code",
      "source": [
        "model.load_state_dict(torch.load('model_pretrained_emb'))\n",
        "evaluate(model)"
      ],
      "execution_count": 46,
      "outputs": [
        {
          "output_type": "stream",
          "text": [
            "Final eval:\n",
            "\tLoss:\t0.06165\n",
            "\tMAE:\t2337.51023\n"
          ],
          "name": "stdout"
        }
      ]
    },
    {
      "metadata": {
        "id": "D35u8WHiGSSE",
        "colab_type": "code",
        "colab": {
          "base_uri": "https://localhost:8080/",
          "height": 399
        },
        "outputId": "89fe1b7b-4636-46b3-abfc-6aff4ddfae8c"
      },
      "cell_type": "code",
      "source": [
        "model = maybe_cuda(FullNetwork(out_size=128, emb_w=mat, emb_size=embeddings.wv.vectors.shape[1]))\n",
        "opt = torch.optim.Adam(model.parameters(), lr=1e-3)\n",
        "\n",
        "train('model_ultimate', model, opt, early_stop_after=100)"
      ],
      "execution_count": 53,
      "outputs": [
        {
          "output_type": "stream",
          "text": [
            "/usr/local/lib/python3.6/dist-packages/ipykernel_launcher.py:1: DeprecationWarning: Call to deprecated `wv` (Attribute will be removed in 4.0.0, use self instead).\n",
            "  \"\"\"Entry point for launching an IPython kernel.\n",
            "/usr/local/lib/python3.6/dist-packages/ipykernel_launcher.py:29: UserWarning: invalid index of a 0-dim tensor. This will be an error in PyTorch 0.5. Use tensor.item() to convert a 0-dim tensor to a Python number\n"
          ],
          "name": "stderr"
        },
        {
          "output_type": "stream",
          "text": [
            "Epoch #100/100 epoch_mae: 2311.3328, epoch_time: 15.85 s\n",
            "Best validation MAE: 2294.1450, best model saved to \"model_ultimate\"\n"
          ],
          "name": "stdout"
        },
        {
          "output_type": "display_data",
          "data": {
            "image/png": "[encoded data removed]",
            "text/plain": [
              "<matplotlib.figure.Figure at 0x7f262da95390>"
            ]
          },
          "metadata": {
            "tags": []
          }
        }
      ]
    },
    {
      "metadata": {
        "id": "WvzeEgTsGiyP",
        "colab_type": "code",
        "colab": {
          "base_uri": "https://localhost:8080/",
          "height": 68
        },
        "outputId": "87b7f4bc-6808-4e70-8b5d-4d0d91a2c6c3"
      },
      "cell_type": "code",
      "source": [
        "model.load_state_dict(torch.load('model_ultimate'))\n",
        "evaluate(model)"
      ],
      "execution_count": 54,
      "outputs": [
        {
          "output_type": "stream",
          "text": [
            "Final eval:\n",
            "\tLoss:\t0.06017\n",
            "\tMAE:\t2291.76254\n"
          ],
          "name": "stdout"
        }
      ]
    },
    {
      "metadata": {
        "id": "A_6YH9l5XKRq",
        "colab_type": "code",
        "colab": {
          "base_uri": "https://localhost:8080/",
          "height": 266
        },
        "outputId": "fbd25a48-1ca7-45af-de94-a8b89f6e47a6"
      },
      "cell_type": "code",
      "source": [
        "import pandas as pd\n",
        "\n",
        "data = {\n",
        "    'baseline': 2909.46599,\n",
        "    'baseline+save_best': 2556.81319,\n",
        "    'model_bn': 2514.25064,\n",
        "    'model_more_neurons': 2465.82688,\n",
        "    'model_more_layers': 2513.87764,\n",
        "    'model_pretrained_emb': 2337.51023,\n",
        "    'model_ultimate': 2291.76254\n",
        "}\n",
        "\n",
        "titles, values = zip(*sorted(data.items(), key=lambda x: x[1]))\n",
        "\n",
        "pd.DataFrame.from_dict({'title': titles, 'MAE': values})"
      ],
      "execution_count": 58,
      "outputs": [
        {
          "output_type": "execute_result",
          "data": {
            "text/html": [
              "<div>\n",
              "<style scoped>\n",
              "    .dataframe tbody tr th:only-of-type {\n",
              "        vertical-align: middle;\n",
              "    }\n",
              "\n",
              "    .dataframe tbody tr th {\n",
              "        vertical-align: top;\n",
              "    }\n",
              "\n",
              "    .dataframe thead th {\n",
              "        text-align: right;\n",
              "    }\n",
              "</style>\n",
              "<table border=\"1\" class=\"dataframe\">\n",
              "  <thead>\n",
              "    <tr style=\"text-align: right;\">\n",
              "      <th></th>\n",
              "      <th>MAE</th>\n",
              "      <th>title</th>\n",
              "    </tr>\n",
              "  </thead>\n",
              "  <tbody>\n",
              "    <tr>\n",
              "      <th>0</th>\n",
              "      <td>2291.76254</td>\n",
              "      <td>model_ultimate</td>\n",
              "    </tr>\n",
              "    <tr>\n",
              "      <th>1</th>\n",
              "      <td>2337.51023</td>\n",
              "      <td>model_pretrained_emb</td>\n",
              "    </tr>\n",
              "    <tr>\n",
              "      <th>2</th>\n",
              "      <td>2465.82688</td>\n",
              "      <td>model_more_neurons</td>\n",
              "    </tr>\n",
              "    <tr>\n",
              "      <th>3</th>\n",
              "      <td>2513.87764</td>\n",
              "      <td>model_more_layers</td>\n",
              "    </tr>\n",
              "    <tr>\n",
              "      <th>4</th>\n",
              "      <td>2514.25064</td>\n",
              "      <td>model_bn</td>\n",
              "    </tr>\n",
              "    <tr>\n",
              "      <th>5</th>\n",
              "      <td>2556.81319</td>\n",
              "      <td>baseline+save_best</td>\n",
              "    </tr>\n",
              "    <tr>\n",
              "      <th>6</th>\n",
              "      <td>2909.46599</td>\n",
              "      <td>baseline</td>\n",
              "    </tr>\n",
              "  </tbody>\n",
              "</table>\n",
              "</div>"
            ],
            "text/plain": [
              "          MAE                 title\n",
              "0  2291.76254        model_ultimate\n",
              "1  2337.51023  model_pretrained_emb\n",
              "2  2465.82688    model_more_neurons\n",
              "3  2513.87764     model_more_layers\n",
              "4  2514.25064              model_bn\n",
              "5  2556.81319    baseline+save_best\n",
              "6  2909.46599              baseline"
            ]
          },
          "metadata": {
            "tags": []
          },
          "execution_count": 58
        }
      ]
    },
    {
      "metadata": {
        "id": "S2jEiqnTXKRp",
        "colab_type": "text"
      },
      "cell_type": "markdown",
      "source": [
        "### A short report\n",
        "\n",
        "Please tell us what you did and how did it work.\n",
        "\n",
        "* Использовал сохранение лучшей модели\n",
        "* Думал об использовании early stopping'а, но бейзлайн модель с ним обучалась честные 99 эпох из 100, поэтому при обучении последующих моделей тоже обучал честные 100 эпох чтобы результаты можно было корректно сравнивать\n",
        "* Добавил батч нормализацию, качество немного улучшилось по сравнению с бейзлайном (`model_bn` в таблице)\n",
        "* Попробовал добаить больше сверточных слоев, качество также улучшилось по сравнению с бейзлайном (`model_more_layers` в таблице)\n",
        "* Попробовал увеличить размер сверточных слоев (`out_size`) с 64 до 128, качество значительно улучшилось (`model_more_neurons`)\n",
        "* Попробовал использовать предобученные embedding'и, качество значительно улучшилось (в таблице `model_pretrained_emb`).\n",
        "* Скомбинировал предобученные эмбединги и увеличение размера сверточных слоев, которые до этого дали значительное улучшение качества, получил дальнейшее улучшение качества (`model_ultimate` в таблице)"
      ]
    }
  ]
}